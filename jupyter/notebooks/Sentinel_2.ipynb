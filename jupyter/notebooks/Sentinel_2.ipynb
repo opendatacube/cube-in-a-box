{
 "cells": [
  {
   "cell_type": "markdown",
   "metadata": {},
   "source": [
    "# Sentinel-2 <img align=\"right\" src=\"utils/DE_Africa_Logo_Stacked_RGB_small.jpg\">\n",
    "\n",
    "* **Products used:** \n",
    "[s2_l2a](https://explorer.digitalearth.africa/s2_l2a)\n",
    "\n",
    "Notebook copied from https://github.com/digitalearthafrica/deafrica-sandbox-notebooks\n"
   ]
  },
  {
   "cell_type": "markdown",
   "metadata": {},
   "source": [
    "## Background\n",
    "\n",
    "Sentinel-2 is an Earth observation mission from the EU Copernicus Programme that systematically acquires optical imagery at high spatial resolution (up to 10 m for some bands).\n",
    "The mission is based on a constellation of two identical satellites in the same orbit, 180° apart for optimal coverage and data delivery.\n",
    "Together, they cover all Earth's land surfaces, large islands, inland and coastal waters every 3-5 days.\n",
    "\n",
    "Sentinel-2A was launched on 23 June 2015 and Sentinel-2B followed on 7 March 2017.\n",
    "Both of the Sentinel-2 satellites carry an innovative wide swath high-resolution multispectral imager with 13 spectral bands.\n",
    "For more information on the Sentinel-2 platforms and applications, check out the [European Space Agency website](http://www.esa.int/Applications/Observing_the_Earth/Copernicus/Overview4).\n",
    "\n",
    "Digital Earth Africa (DE Africa) provides [Sentinel-2, Level 2A](https://earth.esa.int/web/sentinel/technical-guides/sentinel-2-msi/level-2a-processing) surface reflectance data provided by ESA.\n",
    "Surface reflectance provides standardised optical datasets by using robust physical models to correct for variations in image radiance values due to atmospheric properties, as well as sun and sensor geometry.\n",
    "The resulting stack of surface reflectance grids are consistent over space and time, which is instrumental in identifying and quantifying environmental change.\n",
    "\n",
    "DE Africa provides one Sentinel-2 surface reflectance product:\n",
    "\n",
    "* **Sentinel-2** (i.e. `\"s2_l2a\"`): This product represents the 'definitive' source of high quality, analysis-ready Sentinel-2 surface reflectance data (Level 2A), and is available from 2017 to present. Sentinel-2A and Sentinel-2B satellite sensors are stored together under a single product name."
   ]
  },
  {
   "cell_type": "markdown",
   "metadata": {},
   "source": [
    "Sentinel-2, Level 2A surface reflectance products have 13 spectral channels and one pixel quality band ([SCL](https://earth.esa.int/web/sentinel/technical-guides/sentinel-2-msi/level-2a/algorithm)):\n",
    "\n",
    "| Sentinel-2 bands | DE Africa band name | Band number | Central wavelength (nm) | Resolution (m) | Bandwidth (nm) |\n",
    "| -----------------|---------------|-------------|-------------------------|----------------|----------------|\n",
    "| Coastal aerosol | `coastal_aerosol` | 1 | 443 | 60 | 20 |\n",
    "| Blue | `blue` | 2 | 490 | 10 | 65 |\n",
    "| Green | `green` | 3 | 560 | 10 | 35 |\n",
    "| Red | `red` | 4 | 665 | 10 | 30 |\n",
    "| Vegetation red edge | `red_edge_1` | 5 | 705 | 20 | 15 |\n",
    "| Vegetation red edge | `red_edge_2` | 6 | 740 | 20 | 15 |\n",
    "| Vegetation red edge | `red_edge_3` | 7 | 783 | 20 | 20 |\n",
    "| NIR | `nir_1`, `nir` | 8 | 842 | 10 | 115 |\n",
    "| Narrow NIR | `nir_2`,`nir_narrow` | 8A | 865 | 20 | 20 |\n",
    "| Water vapour | `water_vapour` | 9 | 945 | 60 | 20 |\n",
    "| SWIR | `swir_1`, `swir_16` | 11 | 1610 | 20 | 90 |\n",
    "| SWIR | `swir_2`, `swir_22` | 12 | 2190 | 20 | 180 |\n",
    "| SCL  | `SCL`, `qa`, `mask`    | 13 | N/A | 20\n",
    "| AOT  | `aerosol_optical_thickness` | N/A | N/A | 60\n",
    "\n",
    "These bands cover the visible, near-infrared and short-wave infrared wavelengths.\n",
    "\n",
    "!['Sentinel-2 spectral bands'](http://www.geosage.com/highview/figures/Sentinel2_Spectral_Bands.jpg)\n",
    "\n",
    "***"
   ]
  },
  {
   "cell_type": "markdown",
   "metadata": {},
   "source": [
    "## Important details\n",
    "\n",
    "**Product details:**\n",
    "* Product name in the datacube: `\"s2_l2a\"`\n",
    "* Surface reflectance product (Level 2A)\n",
    "    * Valid SR scaling range: `1 – 10,000 (0 is no-data)`\n",
    "* Spatial resolution: varies, see above table\n",
    "* [SCL](https://earth.esa.int/web/sentinel/technical-guides/sentinel-2-msi/level-2a/algorithm) used as pixel quality band\n",
    "* Universal Transverse Mercator (UTM) map projection. World Geodetic System (WGS) 84 datum\n",
    "* Stored in Cloud-Optimised GeoTIFF Format (COG)\n",
    "\n",
    "**Status:** \n",
    "\n",
    "DE Africa's Sentinel-2 data is processed to Level 2A using the [Sen2Cor](https://step.esa.int/main/third-party-plugins-2/sen2cor/) algorithm, stored as Cloud-Optimised Geotiffs, and is available over the entire African Continent. Sentinel-2A and Sentinel-2B satellite sensors are stored together under a single product name (`\"s2_l2a\"`). \n",
    "\n",
    "The catalogue is regularly updated to keep pace with new satellite passes.\n",
    "\n",
    "**Date-range**: \n",
    "\n",
    "2017 to Present\n",
    "\n",
    "\n",
    "**Minimum loading requirements:**\n",
    "```\n",
    "data = dc.load(product='s2_l2a',\n",
    "               output_crs='epsg:6933',\n",
    "               resolution=(-20, 20),\n",
    "               **query)\n",
    "```                               \n",
    "**Bands:**\n",
    "```\n",
    "coastal_aerosol\n",
    "blue           \n",
    "green           \n",
    "red\n",
    "red_edge_1\n",
    "red_edge_2\n",
    "red_edge_3\n",
    "nir_1\n",
    "nir_2\n",
    "swir_1            \n",
    "swir_2\n",
    "water_vapour\n",
    "SCL        \n",
    "AOT\n",
    "```\n",
    "\n",
    "***"
   ]
  },
  {
   "cell_type": "markdown",
   "metadata": {},
   "source": [
    "## Description\n",
    "\n",
    "This notebook will run through loading in Sentinel-2 satellite images.\n",
    "Topics covered include:\n",
    "\n",
    "* Using the native `dc.load()` function to load in Sentinel-2 data\n",
    "* Using the `load_ard()` wrapper function to load in a cloud and pixel-quality masked time series\n",
    "\n",
    "***"
   ]
  },
  {
   "cell_type": "markdown",
   "metadata": {},
   "source": [
    "## Getting started\n",
    "\n",
    "To run this analysis, run all the cells in the notebook, starting with the \"Load packages\" cell."
   ]
  },
  {
   "cell_type": "markdown",
   "metadata": {},
   "source": [
    "### Load packages"
   ]
  },
  {
   "cell_type": "code",
   "execution_count": 1,
   "metadata": {},
   "outputs": [],
   "source": [
    "import sys\n",
    "sys.path.insert(1, '../utils/')"
   ]
  },
  {
   "cell_type": "code",
   "execution_count": 2,
   "metadata": {},
   "outputs": [],
   "source": [
    "import datacube\n",
    "from utils.deafrica_datahandling import load_ard\n",
    "from utils.deafrica_plotting import rgb"
   ]
  },
  {
   "cell_type": "markdown",
   "metadata": {},
   "source": [
    "### Connect to the datacube"
   ]
  },
  {
   "cell_type": "code",
   "execution_count": 3,
   "metadata": {},
   "outputs": [],
   "source": [
    "dc = datacube.Datacube(app='Cuborizonte')"
   ]
  },
  {
   "cell_type": "markdown",
   "metadata": {},
   "source": [
    "## Load Sentinel-2 data from the datacube\n",
    "\n",
    "We will load **Sentinel-2** data using two methods.\n",
    "Firstly, we will use [dc.load()](../Beginners_guide/03_Loading_data.ipynb) to return a time series of satellite images.\n",
    "Secondly, we will load a time series using the [load_ard()](../Frequently_used_code/Using_load_ard.ipynb) function, which is a wrapper function around the `dc.load` module.\n",
    "This function will load all the images from Sentinel-2 and then apply a cloud/pixel-quality mask.\n",
    "The returned `xarray.Dataset` will contain analysis ready images with the cloudy and invalid pixels masked out.\n",
    "\n",
    "You can change any of the parameters in the `query` object below to adjust the location, time, projection, or spatial resolution of the returned datasets.\n",
    "To learn more about querying, refer to the Beginner's guide notebook on [loading data](../Beginners_guide/03_Loading_data.ipynb).\n",
    "\n",
    "Sentinel-2 data is stored on file with a range of different coordinate reference systems or CRS (i.e. multiple UTM zones). \n",
    "The different satellite bands also have different resolutions (10 m, 20 m and 60 m). \n",
    "Because of this, all Sentinel-2 queries need to include the following two query parameters:\n",
    "\n",
    "* `output_crs`: This sets a consistent CRS that all Sentinel-2 data will be reprojected to, regardless of the UTM zone the individual image is stored in.\n",
    "* `resolution`: This sets the resolution that all Sentinel-2 images will be resampled to. \n",
    "\n",
    "> **Note:** Be aware that setting `resolution` to the highest available resolution (i.e. `(-10, 10)`) will downsample the coarser resolution 20 m and 60 m bands, which may introduce unintended artefacts into your analysis.\n",
    "It is typically best practice to set `resolution` to match the lowest resolution band being analysed. For example, if your analysis uses both 10 m and 20 m resolution bands, set `\"resolution\": (-20, 20)`."
   ]
  },
  {
   "cell_type": "code",
   "execution_count": 8,
   "metadata": {},
   "outputs": [],
   "source": [
    "# Create a query object\n",
    "lat, lon = 22.821, 28.518\n",
    "buffer = 0.05\n",
    "\n",
    "query = {\n",
    "    'output_crs': 'epsg:6933',\n",
    "    'resolution':(-20,20),\n",
    "}"
   ]
  },
  {
   "cell_type": "markdown",
   "metadata": {},
   "source": [
    "### Load Sentinel-2 using `dc.load()`\n",
    "\n",
    "The **Sentinel-2** product is called:\n",
    "\n",
    "* `s2_l2a`\n",
    "\n",
    "And contains images from both Sentinel-2 sensors, S2A and S2B\n",
    "\n",
    "We will now load in a time-series of satellite images from only Sentinel-2\n",
    "\n",
    "> **Note:** In this example, we include the `dask_chunks={}` parameter in order to \"lazy-load\" the data. The returned array will contain information about the data without directly loading it, which saves time in this instance. For more information on this, see the Beginner's guide notebook on [parallel processing with Dask](../Beginners_guide/06_Parallel_processing_with_dask.ipynb)."
   ]
  },
  {
   "cell_type": "code",
   "execution_count": 9,
   "metadata": {},
   "outputs": [
    {
     "ename": "ValueError",
     "evalue": "No such product: s2_l2a",
     "output_type": "error",
     "traceback": [
      "\u001b[0;31m---------------------------------------------------------------------------\u001b[0m",
      "\u001b[0;31mValueError\u001b[0m                                Traceback (most recent call last)",
      "Cell \u001b[0;32mIn[9], line 2\u001b[0m\n\u001b[1;32m      1\u001b[0m \u001b[38;5;66;03m#load data\u001b[39;00m\n\u001b[0;32m----> 2\u001b[0m ds \u001b[38;5;241m=\u001b[39m \u001b[43mdc\u001b[49m\u001b[38;5;241;43m.\u001b[39;49m\u001b[43mload\u001b[49m\u001b[43m(\u001b[49m\u001b[43mproduct\u001b[49m\u001b[38;5;241;43m=\u001b[39;49m\u001b[38;5;124;43m'\u001b[39;49m\u001b[38;5;124;43ms2_l2a\u001b[39;49m\u001b[38;5;124;43m'\u001b[39;49m\u001b[43m,\u001b[49m\n\u001b[1;32m      3\u001b[0m \u001b[43m             \u001b[49m\u001b[43mdask_chunks\u001b[49m\u001b[38;5;241;43m=\u001b[39;49m\u001b[43m{\u001b[49m\u001b[43m}\u001b[49m\u001b[43m,\u001b[49m\n\u001b[1;32m      4\u001b[0m \u001b[43m             \u001b[49m\u001b[38;5;241;43m*\u001b[39;49m\u001b[38;5;241;43m*\u001b[39;49m\u001b[43mquery\u001b[49m\u001b[43m)\u001b[49m\n\u001b[1;32m      6\u001b[0m \u001b[38;5;28mprint\u001b[39m(ds)\n",
      "File \u001b[0;32m/usr/local/lib/python3.10/dist-packages/datacube/api/core.py:407\u001b[0m, in \u001b[0;36mDatacube.load\u001b[0;34m(self, product, measurements, output_crs, resolution, resampling, skip_broken_datasets, dask_chunks, like, fuse_func, align, datasets, dataset_predicate, progress_cbk, patch_url, **query)\u001b[0m\n\u001b[1;32m    404\u001b[0m     \u001b[38;5;28;01mraise\u001b[39;00m \u001b[38;5;167;01mValueError\u001b[39;00m(\u001b[38;5;124m\"\u001b[39m\u001b[38;5;124mMust specify a product or supply datasets\u001b[39m\u001b[38;5;124m\"\u001b[39m)\n\u001b[1;32m    406\u001b[0m \u001b[38;5;28;01mif\u001b[39;00m datasets \u001b[38;5;129;01mis\u001b[39;00m \u001b[38;5;28;01mNone\u001b[39;00m:\n\u001b[0;32m--> 407\u001b[0m     datasets \u001b[38;5;241m=\u001b[39m \u001b[38;5;28;43mself\u001b[39;49m\u001b[38;5;241;43m.\u001b[39;49m\u001b[43mfind_datasets\u001b[49m\u001b[43m(\u001b[49m\u001b[43mproduct\u001b[49m\u001b[38;5;241;43m=\u001b[39;49m\u001b[43mproduct\u001b[49m\u001b[43m,\u001b[49m\n\u001b[1;32m    408\u001b[0m \u001b[43m                                  \u001b[49m\u001b[43mlike\u001b[49m\u001b[38;5;241;43m=\u001b[39;49m\u001b[43mlike\u001b[49m\u001b[43m,\u001b[49m\n\u001b[1;32m    409\u001b[0m \u001b[43m                                  \u001b[49m\u001b[43mensure_location\u001b[49m\u001b[38;5;241;43m=\u001b[39;49m\u001b[38;5;28;43;01mTrue\u001b[39;49;00m\u001b[43m,\u001b[49m\n\u001b[1;32m    410\u001b[0m \u001b[43m                                  \u001b[49m\u001b[43mdataset_predicate\u001b[49m\u001b[38;5;241;43m=\u001b[39;49m\u001b[43mdataset_predicate\u001b[49m\u001b[43m,\u001b[49m\n\u001b[1;32m    411\u001b[0m \u001b[43m                                  \u001b[49m\u001b[38;5;241;43m*\u001b[39;49m\u001b[38;5;241;43m*\u001b[39;49m\u001b[43mquery\u001b[49m\u001b[43m)\u001b[49m\n\u001b[1;32m    412\u001b[0m \u001b[38;5;28;01melif\u001b[39;00m \u001b[38;5;28misinstance\u001b[39m(datasets, collections\u001b[38;5;241m.\u001b[39mabc\u001b[38;5;241m.\u001b[39mIterator):\n\u001b[1;32m    413\u001b[0m     datasets \u001b[38;5;241m=\u001b[39m \u001b[38;5;28mlist\u001b[39m(datasets)\n",
      "File \u001b[0;32m/usr/local/lib/python3.10/dist-packages/datacube/api/core.py:470\u001b[0m, in \u001b[0;36mDatacube.find_datasets\u001b[0;34m(self, **search_terms)\u001b[0m\n\u001b[1;32m    460\u001b[0m \u001b[38;5;28;01mdef\u001b[39;00m \u001b[38;5;21mfind_datasets\u001b[39m(\u001b[38;5;28mself\u001b[39m, \u001b[38;5;241m*\u001b[39m\u001b[38;5;241m*\u001b[39msearch_terms):\n\u001b[1;32m    461\u001b[0m \u001b[38;5;250m    \u001b[39m\u001b[38;5;124;03m\"\"\"\u001b[39;00m\n\u001b[1;32m    462\u001b[0m \u001b[38;5;124;03m    Search the index and return all datasets for a product matching the search terms.\u001b[39;00m\n\u001b[1;32m    463\u001b[0m \n\u001b[0;32m   (...)\u001b[0m\n\u001b[1;32m    468\u001b[0m \u001b[38;5;124;03m    .. seealso:: :meth:`group_datasets` :meth:`load_data` :meth:`find_datasets_lazy`\u001b[39;00m\n\u001b[1;32m    469\u001b[0m \u001b[38;5;124;03m    \"\"\"\u001b[39;00m\n\u001b[0;32m--> 470\u001b[0m     \u001b[38;5;28;01mreturn\u001b[39;00m \u001b[38;5;28;43mlist\u001b[39;49m\u001b[43m(\u001b[49m\u001b[38;5;28;43mself\u001b[39;49m\u001b[38;5;241;43m.\u001b[39;49m\u001b[43mfind_datasets_lazy\u001b[49m\u001b[43m(\u001b[49m\u001b[38;5;241;43m*\u001b[39;49m\u001b[38;5;241;43m*\u001b[39;49m\u001b[43msearch_terms\u001b[49m\u001b[43m)\u001b[49m\u001b[43m)\u001b[49m\n",
      "File \u001b[0;32m/usr/local/lib/python3.10/dist-packages/datacube/api/core.py:496\u001b[0m, in \u001b[0;36m<genexpr>\u001b[0;34m(.0)\u001b[0m\n\u001b[1;32m    493\u001b[0m     datasets \u001b[38;5;241m=\u001b[39m select_datasets_inside_polygon(datasets, query\u001b[38;5;241m.\u001b[39mgeopolygon)\n\u001b[1;32m    495\u001b[0m \u001b[38;5;28;01mif\u001b[39;00m ensure_location:\n\u001b[0;32m--> 496\u001b[0m     datasets \u001b[38;5;241m=\u001b[39m (dataset \u001b[38;5;28;01mfor\u001b[39;00m dataset \u001b[38;5;129;01min\u001b[39;00m datasets \u001b[38;5;28;01mif\u001b[39;00m dataset\u001b[38;5;241m.\u001b[39muris)\n\u001b[1;32m    498\u001b[0m \u001b[38;5;66;03m# If a predicate function is provided, use this to filter datasets before load\u001b[39;00m\n\u001b[1;32m    499\u001b[0m \u001b[38;5;28;01mif\u001b[39;00m dataset_predicate \u001b[38;5;129;01mis\u001b[39;00m \u001b[38;5;129;01mnot\u001b[39;00m \u001b[38;5;28;01mNone\u001b[39;00m:\n",
      "File \u001b[0;32m/usr/local/lib/python3.10/dist-packages/datacube/index/postgres/_datasets.py:548\u001b[0m, in \u001b[0;36mDatasetResource.search\u001b[0;34m(self, limit, source_filter, **query)\u001b[0m\n\u001b[1;32m    539\u001b[0m \u001b[38;5;28;01mdef\u001b[39;00m \u001b[38;5;21msearch\u001b[39m(\u001b[38;5;28mself\u001b[39m, limit\u001b[38;5;241m=\u001b[39m\u001b[38;5;28;01mNone\u001b[39;00m, source_filter\u001b[38;5;241m=\u001b[39m\u001b[38;5;28;01mNone\u001b[39;00m, \u001b[38;5;241m*\u001b[39m\u001b[38;5;241m*\u001b[39mquery):\n\u001b[1;32m    540\u001b[0m \u001b[38;5;250m    \u001b[39m\u001b[38;5;124;03m\"\"\"\u001b[39;00m\n\u001b[1;32m    541\u001b[0m \u001b[38;5;124;03m    Perform a search, returning results as Dataset objects.\u001b[39;00m\n\u001b[1;32m    542\u001b[0m \n\u001b[0;32m   (...)\u001b[0m\n\u001b[1;32m    546\u001b[0m \u001b[38;5;124;03m    :rtype: __generator[Dataset]\u001b[39;00m\n\u001b[1;32m    547\u001b[0m \u001b[38;5;124;03m    \"\"\"\u001b[39;00m\n\u001b[0;32m--> 548\u001b[0m     \u001b[38;5;28;01mfor\u001b[39;00m product, datasets \u001b[38;5;129;01min\u001b[39;00m \u001b[38;5;28mself\u001b[39m\u001b[38;5;241m.\u001b[39m_do_search_by_product(query,\n\u001b[1;32m    549\u001b[0m                                                         source_filter\u001b[38;5;241m=\u001b[39msource_filter,\n\u001b[1;32m    550\u001b[0m                                                         limit\u001b[38;5;241m=\u001b[39mlimit):\n\u001b[1;32m    551\u001b[0m         \u001b[38;5;28;01myield from\u001b[39;00m \u001b[38;5;28mself\u001b[39m\u001b[38;5;241m.\u001b[39m_make_many(datasets, product)\n",
      "File \u001b[0;32m/usr/local/lib/python3.10/dist-packages/datacube/index/postgres/_datasets.py:677\u001b[0m, in \u001b[0;36mDatasetResource._do_search_by_product\u001b[0;34m(self, query, return_fields, select_field_names, with_source_ids, source_filter, limit)\u001b[0m\n\u001b[1;32m    675\u001b[0m         \u001b[38;5;28;01mraise\u001b[39;00m \u001b[38;5;167;01mValueError\u001b[39;00m(\u001b[38;5;124m'\u001b[39m\u001b[38;5;124mNo products match search terms: \u001b[39m\u001b[38;5;132;01m%r\u001b[39;00m\u001b[38;5;124m'\u001b[39m \u001b[38;5;241m%\u001b[39m query)\n\u001b[1;32m    676\u001b[0m     \u001b[38;5;28;01melse\u001b[39;00m:\n\u001b[0;32m--> 677\u001b[0m         \u001b[38;5;28;01mraise\u001b[39;00m \u001b[38;5;167;01mValueError\u001b[39;00m(\u001b[38;5;124mf\u001b[39m\u001b[38;5;124m\"\u001b[39m\u001b[38;5;124mNo such product: \u001b[39m\u001b[38;5;132;01m{\u001b[39;00mproduct\u001b[38;5;132;01m}\u001b[39;00m\u001b[38;5;124m\"\u001b[39m)\n\u001b[1;32m    679\u001b[0m \u001b[38;5;28;01mfor\u001b[39;00m q, product \u001b[38;5;129;01min\u001b[39;00m product_queries:\n\u001b[1;32m    680\u001b[0m     dataset_fields \u001b[38;5;241m=\u001b[39m product\u001b[38;5;241m.\u001b[39mmetadata_type\u001b[38;5;241m.\u001b[39mdataset_fields\n",
      "\u001b[0;31mValueError\u001b[0m: No such product: s2_l2a"
     ]
    }
   ],
   "source": [
    "#load data\n",
    "ds = dc.load(product='s2_l2a',\n",
    "             dask_chunks={},\n",
    "             **query)\n",
    "\n",
    "print(ds)"
   ]
  },
  {
   "cell_type": "markdown",
   "metadata": {},
   "source": [
    "The returned dataset contains all of the bands available for Sentinel-2. These bands are named using the datasets native band-names.  We can also specify which bands to return using band-name `aliases`, such as `red` or `nir`. We do this using the parameter `measurements`."
   ]
  },
  {
   "cell_type": "code",
   "execution_count": 6,
   "metadata": {
    "scrolled": true
   },
   "outputs": [
    {
     "name": "stdout",
     "output_type": "stream",
     "text": [
      "<xarray.Dataset>\n",
      "Dimensions:      (time: 6, x: 483, y: 590)\n",
      "Coordinates:\n",
      "  * time         (time) datetime64[ns] 2021-06-05T08:53:54 ... 2021-06-30T08:...\n",
      "  * y            (y) float64 2.843e+06 2.843e+06 ... 2.831e+06 2.831e+06\n",
      "  * x            (x) float64 2.747e+06 2.747e+06 ... 2.756e+06 2.756e+06\n",
      "    spatial_ref  int32 6933\n",
      "Data variables:\n",
      "    blue         (time, y, x) uint16 dask.array<chunksize=(1, 590, 483), meta=np.ndarray>\n",
      "    green        (time, y, x) uint16 dask.array<chunksize=(1, 590, 483), meta=np.ndarray>\n",
      "    red          (time, y, x) uint16 dask.array<chunksize=(1, 590, 483), meta=np.ndarray>\n",
      "    nir          (time, y, x) uint16 dask.array<chunksize=(1, 590, 483), meta=np.ndarray>\n",
      "    swir_1       (time, y, x) uint16 dask.array<chunksize=(1, 590, 483), meta=np.ndarray>\n",
      "Attributes:\n",
      "    crs:           epsg:6933\n",
      "    grid_mapping:  spatial_ref\n"
     ]
    }
   ],
   "source": [
    "bands = ['blue', 'green', 'red', 'nir', 'swir_1']\n",
    "\n",
    "ds = dc.load(product='s2_l2a',\n",
    "             measurements=bands,\n",
    "             dask_chunks={},\n",
    "             **query)\n",
    "\n",
    "print(ds)"
   ]
  },
  {
   "cell_type": "markdown",
   "metadata": {},
   "source": [
    "Once the load is complete, we can then analyse or plot the Sentinel-2 data. As you can see below, clouds and regions of no-data are visible."
   ]
  },
  {
   "cell_type": "code",
   "execution_count": 7,
   "metadata": {},
   "outputs": [
    {
     "ename": "KeyError",
     "evalue": "1623747234000000000",
     "output_type": "error",
     "traceback": [
      "\u001b[0;31m---------------------------------------------------------------------------\u001b[0m",
      "\u001b[0;31mKeyError\u001b[0m                                  Traceback (most recent call last)",
      "Cell \u001b[0;32mIn[7], line 1\u001b[0m\n\u001b[0;32m----> 1\u001b[0m \u001b[43mrgb\u001b[49m\u001b[43m(\u001b[49m\u001b[43mds\u001b[49m\u001b[43m,\u001b[49m\u001b[43m \u001b[49m\u001b[43mindex\u001b[49m\u001b[38;5;241;43m=\u001b[39;49m\u001b[43m[\u001b[49m\u001b[38;5;241;43m-\u001b[39;49m\u001b[38;5;241;43m4\u001b[39;49m\u001b[43m,\u001b[49m\u001b[43m \u001b[49m\u001b[38;5;241;43m-\u001b[39;49m\u001b[38;5;241;43m3\u001b[39;49m\u001b[43m,\u001b[49m\u001b[43m \u001b[49m\u001b[38;5;241;43m-\u001b[39;49m\u001b[38;5;241;43m2\u001b[39;49m\u001b[43m,\u001b[49m\u001b[43m \u001b[49m\u001b[38;5;241;43m-\u001b[39;49m\u001b[38;5;241;43m1\u001b[39;49m\u001b[43m]\u001b[49m\u001b[43m)\u001b[49m\n",
      "File \u001b[0;32m/notebooks/utils/deafrica_plotting.py:237\u001b[0m, in \u001b[0;36mrgb\u001b[0;34m(ds, bands, index, index_dim, robust, percentile_stretch, col_wrap, size, aspect, savefig_path, savefig_kwargs, **kwargs)\u001b[0m\n\u001b[1;32m    234\u001b[0m \u001b[38;5;66;03m# If multiple index values are supplied, plot as a faceted plot\u001b[39;00m\n\u001b[1;32m    235\u001b[0m \u001b[38;5;28;01mif\u001b[39;00m \u001b[38;5;28mlen\u001b[39m(index) \u001b[38;5;241m>\u001b[39m \u001b[38;5;241m1\u001b[39m:\n\u001b[0;32m--> 237\u001b[0m     img \u001b[38;5;241m=\u001b[39m \u001b[43mda\u001b[49m\u001b[38;5;241;43m.\u001b[39;49m\u001b[43mplot\u001b[49m\u001b[38;5;241;43m.\u001b[39;49m\u001b[43mimshow\u001b[49m\u001b[43m(\u001b[49m\u001b[43mrobust\u001b[49m\u001b[38;5;241;43m=\u001b[39;49m\u001b[43mrobust\u001b[49m\u001b[43m,\u001b[49m\n\u001b[1;32m    238\u001b[0m \u001b[43m                         \u001b[49m\u001b[43mcol\u001b[49m\u001b[38;5;241;43m=\u001b[39;49m\u001b[43mindex_dim\u001b[49m\u001b[43m,\u001b[49m\n\u001b[1;32m    239\u001b[0m \u001b[43m                         \u001b[49m\u001b[43mcol_wrap\u001b[49m\u001b[38;5;241;43m=\u001b[39;49m\u001b[43mcol_wrap\u001b[49m\u001b[43m,\u001b[49m\n\u001b[1;32m    240\u001b[0m \u001b[43m                         \u001b[49m\u001b[38;5;241;43m*\u001b[39;49m\u001b[38;5;241;43m*\u001b[39;49m\u001b[43maspect_size_kwarg\u001b[49m\u001b[43m,\u001b[49m\n\u001b[1;32m    241\u001b[0m \u001b[43m                         \u001b[49m\u001b[38;5;241;43m*\u001b[39;49m\u001b[38;5;241;43m*\u001b[39;49m\u001b[43mkwargs\u001b[49m\u001b[43m)\u001b[49m\n\u001b[1;32m    243\u001b[0m \u001b[38;5;66;03m# If only one index is supplied, squeeze out index_dim and plot as a \u001b[39;00m\n\u001b[1;32m    244\u001b[0m \u001b[38;5;66;03m# single panel\u001b[39;00m\n\u001b[1;32m    245\u001b[0m \u001b[38;5;28;01melse\u001b[39;00m:\n\u001b[1;32m    247\u001b[0m     img \u001b[38;5;241m=\u001b[39m da\u001b[38;5;241m.\u001b[39msqueeze(dim\u001b[38;5;241m=\u001b[39mindex_dim)\u001b[38;5;241m.\u001b[39mplot\u001b[38;5;241m.\u001b[39mimshow(robust\u001b[38;5;241m=\u001b[39mrobust,\n\u001b[1;32m    248\u001b[0m                                                 \u001b[38;5;241m*\u001b[39m\u001b[38;5;241m*\u001b[39maspect_size_kwarg,\n\u001b[1;32m    249\u001b[0m                                                 \u001b[38;5;241m*\u001b[39m\u001b[38;5;241m*\u001b[39mkwargs)\n",
      "File \u001b[0;32m/usr/local/lib/python3.10/dist-packages/xarray/plot/plot.py:827\u001b[0m, in \u001b[0;36m_plot2d.<locals>.plotmethod\u001b[0;34m(_PlotMethods_obj, x, y, figsize, size, aspect, ax, row, col, col_wrap, xincrease, yincrease, add_colorbar, add_labels, vmin, vmax, cmap, colors, center, robust, extend, levels, infer_intervals, subplot_kws, cbar_ax, cbar_kwargs, xscale, yscale, xticks, yticks, xlim, ylim, norm, **kwargs)\u001b[0m\n\u001b[1;32m    825\u001b[0m \u001b[38;5;28;01mfor\u001b[39;00m arg \u001b[38;5;129;01min\u001b[39;00m [\u001b[38;5;124m\"\u001b[39m\u001b[38;5;124m_PlotMethods_obj\u001b[39m\u001b[38;5;124m\"\u001b[39m, \u001b[38;5;124m\"\u001b[39m\u001b[38;5;124mnewplotfunc\u001b[39m\u001b[38;5;124m\"\u001b[39m, \u001b[38;5;124m\"\u001b[39m\u001b[38;5;124mkwargs\u001b[39m\u001b[38;5;124m\"\u001b[39m]:\n\u001b[1;32m    826\u001b[0m     \u001b[38;5;28;01mdel\u001b[39;00m allargs[arg]\n\u001b[0;32m--> 827\u001b[0m \u001b[38;5;28;01mreturn\u001b[39;00m \u001b[43mnewplotfunc\u001b[49m\u001b[43m(\u001b[49m\u001b[38;5;241;43m*\u001b[39;49m\u001b[38;5;241;43m*\u001b[39;49m\u001b[43mallargs\u001b[49m\u001b[43m)\u001b[49m\n",
      "File \u001b[0;32m/usr/local/lib/python3.10/dist-packages/xarray/plot/plot.py:638\u001b[0m, in \u001b[0;36m_plot2d.<locals>.newplotfunc\u001b[0;34m(darray, x, y, figsize, size, aspect, ax, row, col, col_wrap, xincrease, yincrease, add_colorbar, add_labels, vmin, vmax, cmap, center, robust, extend, levels, infer_intervals, colors, subplot_kws, cbar_ax, cbar_kwargs, xscale, yscale, xticks, yticks, xlim, ylim, norm, **kwargs)\u001b[0m\n\u001b[1;32m    636\u001b[0m     \u001b[38;5;66;03m# Need the decorated plotting function\u001b[39;00m\n\u001b[1;32m    637\u001b[0m     allargs[\u001b[38;5;124m\"\u001b[39m\u001b[38;5;124mplotfunc\u001b[39m\u001b[38;5;124m\"\u001b[39m] \u001b[38;5;241m=\u001b[39m \u001b[38;5;28mglobals\u001b[39m()[plotfunc\u001b[38;5;241m.\u001b[39m\u001b[38;5;18m__name__\u001b[39m]\n\u001b[0;32m--> 638\u001b[0m     \u001b[38;5;28;01mreturn\u001b[39;00m \u001b[43m_easy_facetgrid\u001b[49m\u001b[43m(\u001b[49m\u001b[43mdarray\u001b[49m\u001b[43m,\u001b[49m\u001b[43m \u001b[49m\u001b[43mkind\u001b[49m\u001b[38;5;241;43m=\u001b[39;49m\u001b[38;5;124;43m\"\u001b[39;49m\u001b[38;5;124;43mdataarray\u001b[39;49m\u001b[38;5;124;43m\"\u001b[39;49m\u001b[43m,\u001b[49m\u001b[43m \u001b[49m\u001b[38;5;241;43m*\u001b[39;49m\u001b[38;5;241;43m*\u001b[39;49m\u001b[43mallargs\u001b[49m\u001b[43m)\u001b[49m\n\u001b[1;32m    640\u001b[0m plt \u001b[38;5;241m=\u001b[39m import_matplotlib_pyplot()\n\u001b[1;32m    642\u001b[0m rgb \u001b[38;5;241m=\u001b[39m kwargs\u001b[38;5;241m.\u001b[39mpop(\u001b[38;5;124m\"\u001b[39m\u001b[38;5;124mrgb\u001b[39m\u001b[38;5;124m\"\u001b[39m, \u001b[38;5;28;01mNone\u001b[39;00m)\n",
      "File \u001b[0;32m/usr/local/lib/python3.10/dist-packages/xarray/plot/facetgrid.py:644\u001b[0m, in \u001b[0;36m_easy_facetgrid\u001b[0;34m(data, plotfunc, kind, x, y, row, col, col_wrap, sharex, sharey, aspect, size, subplot_kws, ax, figsize, **kwargs)\u001b[0m\n\u001b[1;32m    641\u001b[0m     \u001b[38;5;28;01mreturn\u001b[39;00m g\u001b[38;5;241m.\u001b[39mmap_dataarray_line(plotfunc, x, y, \u001b[38;5;241m*\u001b[39m\u001b[38;5;241m*\u001b[39mkwargs)\n\u001b[1;32m    643\u001b[0m \u001b[38;5;28;01mif\u001b[39;00m kind \u001b[38;5;241m==\u001b[39m \u001b[38;5;124m\"\u001b[39m\u001b[38;5;124mdataarray\u001b[39m\u001b[38;5;124m\"\u001b[39m:\n\u001b[0;32m--> 644\u001b[0m     \u001b[38;5;28;01mreturn\u001b[39;00m \u001b[43mg\u001b[49m\u001b[38;5;241;43m.\u001b[39;49m\u001b[43mmap_dataarray\u001b[49m\u001b[43m(\u001b[49m\u001b[43mplotfunc\u001b[49m\u001b[43m,\u001b[49m\u001b[43m \u001b[49m\u001b[43mx\u001b[49m\u001b[43m,\u001b[49m\u001b[43m \u001b[49m\u001b[43my\u001b[49m\u001b[43m,\u001b[49m\u001b[43m \u001b[49m\u001b[38;5;241;43m*\u001b[39;49m\u001b[38;5;241;43m*\u001b[39;49m\u001b[43mkwargs\u001b[49m\u001b[43m)\u001b[49m\n\u001b[1;32m    646\u001b[0m \u001b[38;5;28;01mif\u001b[39;00m kind \u001b[38;5;241m==\u001b[39m \u001b[38;5;124m\"\u001b[39m\u001b[38;5;124mdataset\u001b[39m\u001b[38;5;124m\"\u001b[39m:\n\u001b[1;32m    647\u001b[0m     \u001b[38;5;28;01mreturn\u001b[39;00m g\u001b[38;5;241m.\u001b[39mmap_dataset(plotfunc, x, y, \u001b[38;5;241m*\u001b[39m\u001b[38;5;241m*\u001b[39mkwargs)\n",
      "File \u001b[0;32m/usr/local/lib/python3.10/dist-packages/xarray/plot/facetgrid.py:265\u001b[0m, in \u001b[0;36mFacetGrid.map_dataarray\u001b[0;34m(self, func, x, y, **kwargs)\u001b[0m\n\u001b[1;32m    261\u001b[0m func_kwargs\u001b[38;5;241m.\u001b[39mupdate({\u001b[38;5;124m\"\u001b[39m\u001b[38;5;124madd_colorbar\u001b[39m\u001b[38;5;124m\"\u001b[39m: \u001b[38;5;28;01mFalse\u001b[39;00m, \u001b[38;5;124m\"\u001b[39m\u001b[38;5;124madd_labels\u001b[39m\u001b[38;5;124m\"\u001b[39m: \u001b[38;5;28;01mFalse\u001b[39;00m})\n\u001b[1;32m    263\u001b[0m \u001b[38;5;66;03m# Get x, y labels for the first subplot\u001b[39;00m\n\u001b[1;32m    264\u001b[0m x, y \u001b[38;5;241m=\u001b[39m _infer_xy_labels(\n\u001b[0;32m--> 265\u001b[0m     darray\u001b[38;5;241m=\u001b[39m\u001b[38;5;28;43mself\u001b[39;49m\u001b[38;5;241;43m.\u001b[39;49m\u001b[43mdata\u001b[49m\u001b[38;5;241;43m.\u001b[39;49m\u001b[43mloc\u001b[49m\u001b[43m[\u001b[49m\u001b[38;5;28;43mself\u001b[39;49m\u001b[38;5;241;43m.\u001b[39;49m\u001b[43mname_dicts\u001b[49m\u001b[38;5;241;43m.\u001b[39;49m\u001b[43mflat\u001b[49m\u001b[43m[\u001b[49m\u001b[38;5;241;43m0\u001b[39;49m\u001b[43m]\u001b[49m\u001b[43m]\u001b[49m,\n\u001b[1;32m    266\u001b[0m     x\u001b[38;5;241m=\u001b[39mx,\n\u001b[1;32m    267\u001b[0m     y\u001b[38;5;241m=\u001b[39my,\n\u001b[1;32m    268\u001b[0m     imshow\u001b[38;5;241m=\u001b[39mfunc\u001b[38;5;241m.\u001b[39m\u001b[38;5;18m__name__\u001b[39m \u001b[38;5;241m==\u001b[39m \u001b[38;5;124m\"\u001b[39m\u001b[38;5;124mimshow\u001b[39m\u001b[38;5;124m\"\u001b[39m,\n\u001b[1;32m    269\u001b[0m     rgb\u001b[38;5;241m=\u001b[39mkwargs\u001b[38;5;241m.\u001b[39mget(\u001b[38;5;124m\"\u001b[39m\u001b[38;5;124mrgb\u001b[39m\u001b[38;5;124m\"\u001b[39m, \u001b[38;5;28;01mNone\u001b[39;00m),\n\u001b[1;32m    270\u001b[0m )\n\u001b[1;32m    272\u001b[0m \u001b[38;5;28;01mfor\u001b[39;00m d, ax \u001b[38;5;129;01min\u001b[39;00m \u001b[38;5;28mzip\u001b[39m(\u001b[38;5;28mself\u001b[39m\u001b[38;5;241m.\u001b[39mname_dicts\u001b[38;5;241m.\u001b[39mflat, \u001b[38;5;28mself\u001b[39m\u001b[38;5;241m.\u001b[39maxes\u001b[38;5;241m.\u001b[39mflat):\n\u001b[1;32m    273\u001b[0m     \u001b[38;5;66;03m# None is the sentinel value\u001b[39;00m\n\u001b[1;32m    274\u001b[0m     \u001b[38;5;28;01mif\u001b[39;00m d \u001b[38;5;129;01mis\u001b[39;00m \u001b[38;5;129;01mnot\u001b[39;00m \u001b[38;5;28;01mNone\u001b[39;00m:\n",
      "File \u001b[0;32m/usr/local/lib/python3.10/dist-packages/xarray/core/dataarray.py:198\u001b[0m, in \u001b[0;36m_LocIndexer.__getitem__\u001b[0;34m(self, key)\u001b[0m\n\u001b[1;32m    196\u001b[0m     labels \u001b[38;5;241m=\u001b[39m indexing\u001b[38;5;241m.\u001b[39mexpanded_indexer(key, \u001b[38;5;28mself\u001b[39m\u001b[38;5;241m.\u001b[39mdata_array\u001b[38;5;241m.\u001b[39mndim)\n\u001b[1;32m    197\u001b[0m     key \u001b[38;5;241m=\u001b[39m \u001b[38;5;28mdict\u001b[39m(\u001b[38;5;28mzip\u001b[39m(\u001b[38;5;28mself\u001b[39m\u001b[38;5;241m.\u001b[39mdata_array\u001b[38;5;241m.\u001b[39mdims, labels))\n\u001b[0;32m--> 198\u001b[0m \u001b[38;5;28;01mreturn\u001b[39;00m \u001b[38;5;28;43mself\u001b[39;49m\u001b[38;5;241;43m.\u001b[39;49m\u001b[43mdata_array\u001b[49m\u001b[38;5;241;43m.\u001b[39;49m\u001b[43msel\u001b[49m\u001b[43m(\u001b[49m\u001b[38;5;241;43m*\u001b[39;49m\u001b[38;5;241;43m*\u001b[39;49m\u001b[43mkey\u001b[49m\u001b[43m)\u001b[49m\n",
      "File \u001b[0;32m/usr/local/lib/python3.10/dist-packages/xarray/core/dataarray.py:1149\u001b[0m, in \u001b[0;36mDataArray.sel\u001b[0;34m(self, indexers, method, tolerance, drop, **indexers_kwargs)\u001b[0m\n\u001b[1;32m   1068\u001b[0m \u001b[38;5;28;01mdef\u001b[39;00m \u001b[38;5;21msel\u001b[39m(\n\u001b[1;32m   1069\u001b[0m     \u001b[38;5;28mself\u001b[39m,\n\u001b[1;32m   1070\u001b[0m     indexers: Mapping[Hashable, Any] \u001b[38;5;241m=\u001b[39m \u001b[38;5;28;01mNone\u001b[39;00m,\n\u001b[0;32m   (...)\u001b[0m\n\u001b[1;32m   1074\u001b[0m     \u001b[38;5;241m*\u001b[39m\u001b[38;5;241m*\u001b[39mindexers_kwargs: Any,\n\u001b[1;32m   1075\u001b[0m ) \u001b[38;5;241m-\u001b[39m\u001b[38;5;241m>\u001b[39m \u001b[38;5;124m\"\u001b[39m\u001b[38;5;124mDataArray\u001b[39m\u001b[38;5;124m\"\u001b[39m:\n\u001b[1;32m   1076\u001b[0m \u001b[38;5;250m    \u001b[39m\u001b[38;5;124;03m\"\"\"Return a new DataArray whose data is given by selecting index\u001b[39;00m\n\u001b[1;32m   1077\u001b[0m \u001b[38;5;124;03m    labels along the specified dimension(s).\u001b[39;00m\n\u001b[1;32m   1078\u001b[0m \n\u001b[0;32m   (...)\u001b[0m\n\u001b[1;32m   1147\u001b[0m \n\u001b[1;32m   1148\u001b[0m \u001b[38;5;124;03m    \"\"\"\u001b[39;00m\n\u001b[0;32m-> 1149\u001b[0m     ds \u001b[38;5;241m=\u001b[39m \u001b[38;5;28;43mself\u001b[39;49m\u001b[38;5;241;43m.\u001b[39;49m\u001b[43m_to_temp_dataset\u001b[49m\u001b[43m(\u001b[49m\u001b[43m)\u001b[49m\u001b[38;5;241;43m.\u001b[39;49m\u001b[43msel\u001b[49m\u001b[43m(\u001b[49m\n\u001b[1;32m   1150\u001b[0m \u001b[43m        \u001b[49m\u001b[43mindexers\u001b[49m\u001b[38;5;241;43m=\u001b[39;49m\u001b[43mindexers\u001b[49m\u001b[43m,\u001b[49m\n\u001b[1;32m   1151\u001b[0m \u001b[43m        \u001b[49m\u001b[43mdrop\u001b[49m\u001b[38;5;241;43m=\u001b[39;49m\u001b[43mdrop\u001b[49m\u001b[43m,\u001b[49m\n\u001b[1;32m   1152\u001b[0m \u001b[43m        \u001b[49m\u001b[43mmethod\u001b[49m\u001b[38;5;241;43m=\u001b[39;49m\u001b[43mmethod\u001b[49m\u001b[43m,\u001b[49m\n\u001b[1;32m   1153\u001b[0m \u001b[43m        \u001b[49m\u001b[43mtolerance\u001b[49m\u001b[38;5;241;43m=\u001b[39;49m\u001b[43mtolerance\u001b[49m\u001b[43m,\u001b[49m\n\u001b[1;32m   1154\u001b[0m \u001b[43m        \u001b[49m\u001b[38;5;241;43m*\u001b[39;49m\u001b[38;5;241;43m*\u001b[39;49m\u001b[43mindexers_kwargs\u001b[49m\u001b[43m,\u001b[49m\n\u001b[1;32m   1155\u001b[0m \u001b[43m    \u001b[49m\u001b[43m)\u001b[49m\n\u001b[1;32m   1156\u001b[0m     \u001b[38;5;28;01mreturn\u001b[39;00m \u001b[38;5;28mself\u001b[39m\u001b[38;5;241m.\u001b[39m_from_temp_dataset(ds)\n",
      "File \u001b[0;32m/usr/local/lib/python3.10/dist-packages/xarray/core/dataset.py:2101\u001b[0m, in \u001b[0;36mDataset.sel\u001b[0;34m(self, indexers, method, tolerance, drop, **indexers_kwargs)\u001b[0m\n\u001b[1;32m   2039\u001b[0m \u001b[38;5;250m\u001b[39m\u001b[38;5;124;03m\"\"\"Returns a new dataset with each array indexed by tick labels\u001b[39;00m\n\u001b[1;32m   2040\u001b[0m \u001b[38;5;124;03malong the specified dimension(s).\u001b[39;00m\n\u001b[1;32m   2041\u001b[0m \n\u001b[0;32m   (...)\u001b[0m\n\u001b[1;32m   2098\u001b[0m \u001b[38;5;124;03mDataArray.sel\u001b[39;00m\n\u001b[1;32m   2099\u001b[0m \u001b[38;5;124;03m\"\"\"\u001b[39;00m\n\u001b[1;32m   2100\u001b[0m indexers \u001b[38;5;241m=\u001b[39m either_dict_or_kwargs(indexers, indexers_kwargs, \u001b[38;5;124m\"\u001b[39m\u001b[38;5;124msel\u001b[39m\u001b[38;5;124m\"\u001b[39m)\n\u001b[0;32m-> 2101\u001b[0m pos_indexers, new_indexes \u001b[38;5;241m=\u001b[39m \u001b[43mremap_label_indexers\u001b[49m\u001b[43m(\u001b[49m\n\u001b[1;32m   2102\u001b[0m \u001b[43m    \u001b[49m\u001b[38;5;28;43mself\u001b[39;49m\u001b[43m,\u001b[49m\u001b[43m \u001b[49m\u001b[43mindexers\u001b[49m\u001b[38;5;241;43m=\u001b[39;49m\u001b[43mindexers\u001b[49m\u001b[43m,\u001b[49m\u001b[43m \u001b[49m\u001b[43mmethod\u001b[49m\u001b[38;5;241;43m=\u001b[39;49m\u001b[43mmethod\u001b[49m\u001b[43m,\u001b[49m\u001b[43m \u001b[49m\u001b[43mtolerance\u001b[49m\u001b[38;5;241;43m=\u001b[39;49m\u001b[43mtolerance\u001b[49m\n\u001b[1;32m   2103\u001b[0m \u001b[43m\u001b[49m\u001b[43m)\u001b[49m\n\u001b[1;32m   2104\u001b[0m result \u001b[38;5;241m=\u001b[39m \u001b[38;5;28mself\u001b[39m\u001b[38;5;241m.\u001b[39misel(indexers\u001b[38;5;241m=\u001b[39mpos_indexers, drop\u001b[38;5;241m=\u001b[39mdrop)\n\u001b[1;32m   2105\u001b[0m \u001b[38;5;28;01mreturn\u001b[39;00m result\u001b[38;5;241m.\u001b[39m_overwrite_indexes(new_indexes)\n",
      "File \u001b[0;32m/usr/local/lib/python3.10/dist-packages/xarray/core/coordinates.py:396\u001b[0m, in \u001b[0;36mremap_label_indexers\u001b[0;34m(obj, indexers, method, tolerance, **indexers_kwargs)\u001b[0m\n\u001b[1;32m    389\u001b[0m indexers \u001b[38;5;241m=\u001b[39m either_dict_or_kwargs(indexers, indexers_kwargs, \u001b[38;5;124m\"\u001b[39m\u001b[38;5;124mremap_label_indexers\u001b[39m\u001b[38;5;124m\"\u001b[39m)\n\u001b[1;32m    391\u001b[0m v_indexers \u001b[38;5;241m=\u001b[39m {\n\u001b[1;32m    392\u001b[0m     k: v\u001b[38;5;241m.\u001b[39mvariable\u001b[38;5;241m.\u001b[39mdata \u001b[38;5;28;01mif\u001b[39;00m \u001b[38;5;28misinstance\u001b[39m(v, DataArray) \u001b[38;5;28;01melse\u001b[39;00m v\n\u001b[1;32m    393\u001b[0m     \u001b[38;5;28;01mfor\u001b[39;00m k, v \u001b[38;5;129;01min\u001b[39;00m indexers\u001b[38;5;241m.\u001b[39mitems()\n\u001b[1;32m    394\u001b[0m }\n\u001b[0;32m--> 396\u001b[0m pos_indexers, new_indexes \u001b[38;5;241m=\u001b[39m \u001b[43mindexing\u001b[49m\u001b[38;5;241;43m.\u001b[39;49m\u001b[43mremap_label_indexers\u001b[49m\u001b[43m(\u001b[49m\n\u001b[1;32m    397\u001b[0m \u001b[43m    \u001b[49m\u001b[43mobj\u001b[49m\u001b[43m,\u001b[49m\u001b[43m \u001b[49m\u001b[43mv_indexers\u001b[49m\u001b[43m,\u001b[49m\u001b[43m \u001b[49m\u001b[43mmethod\u001b[49m\u001b[38;5;241;43m=\u001b[39;49m\u001b[43mmethod\u001b[49m\u001b[43m,\u001b[49m\u001b[43m \u001b[49m\u001b[43mtolerance\u001b[49m\u001b[38;5;241;43m=\u001b[39;49m\u001b[43mtolerance\u001b[49m\n\u001b[1;32m    398\u001b[0m \u001b[43m\u001b[49m\u001b[43m)\u001b[49m\n\u001b[1;32m    399\u001b[0m \u001b[38;5;66;03m# attach indexer's coordinate to pos_indexers\u001b[39;00m\n\u001b[1;32m    400\u001b[0m \u001b[38;5;28;01mfor\u001b[39;00m k, v \u001b[38;5;129;01min\u001b[39;00m indexers\u001b[38;5;241m.\u001b[39mitems():\n",
      "File \u001b[0;32m/usr/local/lib/python3.10/dist-packages/xarray/core/indexing.py:270\u001b[0m, in \u001b[0;36mremap_label_indexers\u001b[0;34m(data_obj, indexers, method, tolerance)\u001b[0m\n\u001b[1;32m    268\u001b[0m coords_dtype \u001b[38;5;241m=\u001b[39m data_obj\u001b[38;5;241m.\u001b[39mcoords[dim]\u001b[38;5;241m.\u001b[39mdtype\n\u001b[1;32m    269\u001b[0m label \u001b[38;5;241m=\u001b[39m maybe_cast_to_coords_dtype(label, coords_dtype)\n\u001b[0;32m--> 270\u001b[0m idxr, new_idx \u001b[38;5;241m=\u001b[39m \u001b[43mconvert_label_indexer\u001b[49m\u001b[43m(\u001b[49m\u001b[43mindex\u001b[49m\u001b[43m,\u001b[49m\u001b[43m \u001b[49m\u001b[43mlabel\u001b[49m\u001b[43m,\u001b[49m\u001b[43m \u001b[49m\u001b[43mdim\u001b[49m\u001b[43m,\u001b[49m\u001b[43m \u001b[49m\u001b[43mmethod\u001b[49m\u001b[43m,\u001b[49m\u001b[43m \u001b[49m\u001b[43mtolerance\u001b[49m\u001b[43m)\u001b[49m\n\u001b[1;32m    271\u001b[0m pos_indexers[dim] \u001b[38;5;241m=\u001b[39m idxr\n\u001b[1;32m    272\u001b[0m \u001b[38;5;28;01mif\u001b[39;00m new_idx \u001b[38;5;129;01mis\u001b[39;00m \u001b[38;5;129;01mnot\u001b[39;00m \u001b[38;5;28;01mNone\u001b[39;00m:\n",
      "File \u001b[0;32m/usr/local/lib/python3.10/dist-packages/xarray/core/indexing.py:189\u001b[0m, in \u001b[0;36mconvert_label_indexer\u001b[0;34m(index, label, index_name, method, tolerance)\u001b[0m\n\u001b[1;32m    187\u001b[0m         indexer \u001b[38;5;241m=\u001b[39m index\u001b[38;5;241m.\u001b[39mget_loc(label\u001b[38;5;241m.\u001b[39mitem())\n\u001b[1;32m    188\u001b[0m     \u001b[38;5;28;01melse\u001b[39;00m:\n\u001b[0;32m--> 189\u001b[0m         indexer \u001b[38;5;241m=\u001b[39m \u001b[43mindex\u001b[49m\u001b[38;5;241;43m.\u001b[39;49m\u001b[43mget_loc\u001b[49m\u001b[43m(\u001b[49m\n\u001b[1;32m    190\u001b[0m \u001b[43m            \u001b[49m\u001b[43mlabel\u001b[49m\u001b[38;5;241;43m.\u001b[39;49m\u001b[43mitem\u001b[49m\u001b[43m(\u001b[49m\u001b[43m)\u001b[49m\u001b[43m,\u001b[49m\u001b[43m \u001b[49m\u001b[43mmethod\u001b[49m\u001b[38;5;241;43m=\u001b[39;49m\u001b[43mmethod\u001b[49m\u001b[43m,\u001b[49m\u001b[43m \u001b[49m\u001b[43mtolerance\u001b[49m\u001b[38;5;241;43m=\u001b[39;49m\u001b[43mtolerance\u001b[49m\n\u001b[1;32m    191\u001b[0m \u001b[43m        \u001b[49m\u001b[43m)\u001b[49m\n\u001b[1;32m    192\u001b[0m \u001b[38;5;28;01melif\u001b[39;00m label\u001b[38;5;241m.\u001b[39mdtype\u001b[38;5;241m.\u001b[39mkind \u001b[38;5;241m==\u001b[39m \u001b[38;5;124m\"\u001b[39m\u001b[38;5;124mb\u001b[39m\u001b[38;5;124m\"\u001b[39m:\n\u001b[1;32m    193\u001b[0m     indexer \u001b[38;5;241m=\u001b[39m label\n",
      "File \u001b[0;32m/usr/local/lib/python3.10/dist-packages/pandas/core/indexes/datetimes.py:700\u001b[0m, in \u001b[0;36mDatetimeIndex.get_loc\u001b[0;34m(self, key, method, tolerance)\u001b[0m\n\u001b[1;32m    696\u001b[0m     \u001b[38;5;28;01mreturn\u001b[39;00m \u001b[38;5;28mself\u001b[39m\u001b[38;5;241m.\u001b[39mindexer_at_time(key)\n\u001b[1;32m    698\u001b[0m \u001b[38;5;28;01melse\u001b[39;00m:\n\u001b[1;32m    699\u001b[0m     \u001b[38;5;66;03m# unrecognized type\u001b[39;00m\n\u001b[0;32m--> 700\u001b[0m     \u001b[38;5;28;01mraise\u001b[39;00m \u001b[38;5;167;01mKeyError\u001b[39;00m(key)\n\u001b[1;32m    702\u001b[0m \u001b[38;5;28;01mtry\u001b[39;00m:\n\u001b[1;32m    703\u001b[0m     \u001b[38;5;28;01mreturn\u001b[39;00m Index\u001b[38;5;241m.\u001b[39mget_loc(\u001b[38;5;28mself\u001b[39m, key, method, tolerance)\n",
      "\u001b[0;31mKeyError\u001b[0m: 1623747234000000000"
     ]
    },
    {
     "data": {
      "image/png": "[encoded data removed]",
      "text/plain": [
       "<Figure size 2064.75x600 with 4 Axes>"
      ]
     },
     "metadata": {},
     "output_type": "display_data"
    }
   ],
   "source": [
    "rgb(ds, index=[-4, -3, -2, -1])"
   ]
  },
  {
   "cell_type": "markdown",
   "metadata": {},
   "source": [
    "### Load Sentinel-2 using `load_ard`\n",
    "\n",
    "This function will load images from Sentinel-2 and apply a cloud/pixel-quality mask.\n",
    "The result is an analysis ready dataset free of cloud, cloud-shadow, and missing data.\n",
    "\n",
    "You can find more information on this function from the [Using load ard](../Frequently_used_code/Using_load_ard.ipynb) notebook."
   ]
  },
  {
   "cell_type": "code",
   "execution_count": 9,
   "metadata": {},
   "outputs": [
    {
     "name": "stdout",
     "output_type": "stream",
     "text": [
      "Using pixel quality parameters for Sentinel 2\n",
      "Finding datasets\n",
      "    s2_l2a\n",
      "Applying pixel quality/cloud mask\n",
      "Returning 6 time steps as a dask array\n",
      "<xarray.Dataset>\n",
      "Dimensions:      (time: 6, x: 483, y: 590)\n",
      "Coordinates:\n",
      "  * y            (y) float64 2.843e+06 2.843e+06 ... 2.831e+06 2.831e+06\n",
      "  * time         (time) datetime64[ns] 2021-06-05T08:53:54 ... 2021-06-30T08:...\n",
      "  * x            (x) float64 2.747e+06 2.747e+06 ... 2.756e+06 2.756e+06\n",
      "    spatial_ref  int32 6933\n",
      "Data variables:\n",
      "    blue         (time, y, x) float32 dask.array<chunksize=(1, 590, 483), meta=np.ndarray>\n",
      "    green        (time, y, x) float32 dask.array<chunksize=(1, 590, 483), meta=np.ndarray>\n",
      "    red          (time, y, x) float32 dask.array<chunksize=(1, 590, 483), meta=np.ndarray>\n",
      "    nir          (time, y, x) float32 dask.array<chunksize=(1, 590, 483), meta=np.ndarray>\n",
      "    swir_1       (time, y, x) float32 dask.array<chunksize=(1, 590, 483), meta=np.ndarray>\n",
      "Attributes:\n",
      "    crs:           epsg:6933\n",
      "    grid_mapping:  spatial_ref\n"
     ]
    }
   ],
   "source": [
    "ds = load_ard(dc=dc,\n",
    "              products=['s2_l2a'],\n",
    "              measurements=bands,\n",
    "              dask_chunks={},\n",
    "              **query)\n",
    "\n",
    "print(ds)"
   ]
  },
  {
   "cell_type": "code",
   "execution_count": 10,
   "metadata": {},
   "outputs": [
    {
     "ename": "KeyError",
     "evalue": "1622883234000000000",
     "output_type": "error",
     "traceback": [
      "\u001b[0;31m---------------------------------------------------------------------------\u001b[0m",
      "\u001b[0;31mKeyError\u001b[0m                                  Traceback (most recent call last)",
      "Cell \u001b[0;32mIn[10], line 1\u001b[0m\n\u001b[0;32m----> 1\u001b[0m \u001b[43mrgb\u001b[49m\u001b[43m(\u001b[49m\u001b[43mds\u001b[49m\u001b[43m,\u001b[49m\u001b[43m \u001b[49m\u001b[43mindex\u001b[49m\u001b[38;5;241;43m=\u001b[39;49m\u001b[43m[\u001b[49m\u001b[38;5;241;43m0\u001b[39;49m\u001b[43m,\u001b[49m\u001b[38;5;241;43m1\u001b[39;49m\u001b[43m,\u001b[49m\u001b[38;5;241;43m2\u001b[39;49m\u001b[43m,\u001b[49m\u001b[38;5;241;43m3\u001b[39;49m\u001b[43m]\u001b[49m\u001b[43m)\u001b[49m\n",
      "File \u001b[0;32m/notebooks/utils/deafrica_plotting.py:220\u001b[0m, in \u001b[0;36mrgb\u001b[0;34m(ds, bands, index, index_dim, robust, percentile_stretch, col_wrap, size, aspect, savefig_path, savefig_kwargs, **kwargs)\u001b[0m\n\u001b[1;32m    217\u001b[0m \u001b[38;5;66;03m# If multiple index values are supplied, plot as a faceted plot\u001b[39;00m\n\u001b[1;32m    218\u001b[0m \u001b[38;5;28;01mif\u001b[39;00m \u001b[38;5;28mlen\u001b[39m(index) \u001b[38;5;241m>\u001b[39m \u001b[38;5;241m1\u001b[39m:\n\u001b[0;32m--> 220\u001b[0m     img \u001b[38;5;241m=\u001b[39m \u001b[43mda\u001b[49m\u001b[38;5;241;43m.\u001b[39;49m\u001b[43mplot\u001b[49m\u001b[38;5;241;43m.\u001b[39;49m\u001b[43mimshow\u001b[49m\u001b[43m(\u001b[49m\n\u001b[1;32m    221\u001b[0m \u001b[43m        \u001b[49m\u001b[43mrobust\u001b[49m\u001b[38;5;241;43m=\u001b[39;49m\u001b[43mrobust\u001b[49m\u001b[43m,\u001b[49m\n\u001b[1;32m    222\u001b[0m \u001b[43m        \u001b[49m\u001b[43mcol\u001b[49m\u001b[38;5;241;43m=\u001b[39;49m\u001b[43mindex_dim\u001b[49m\u001b[43m,\u001b[49m\n\u001b[1;32m    223\u001b[0m \u001b[43m        \u001b[49m\u001b[43mcol_wrap\u001b[49m\u001b[38;5;241;43m=\u001b[39;49m\u001b[43mcol_wrap\u001b[49m\u001b[43m,\u001b[49m\n\u001b[1;32m    224\u001b[0m \u001b[43m        \u001b[49m\u001b[38;5;241;43m*\u001b[39;49m\u001b[38;5;241;43m*\u001b[39;49m\u001b[43maspect_size_kwarg\u001b[49m\u001b[43m,\u001b[49m\n\u001b[1;32m    225\u001b[0m \u001b[43m        \u001b[49m\u001b[38;5;241;43m*\u001b[39;49m\u001b[38;5;241;43m*\u001b[39;49m\u001b[43mkwargs\u001b[49m\u001b[43m,\u001b[49m\n\u001b[1;32m    226\u001b[0m \u001b[43m    \u001b[49m\u001b[43m)\u001b[49m\n\u001b[1;32m    228\u001b[0m \u001b[38;5;66;03m# If only one index is supplied, squeeze out index_dim and plot as a\u001b[39;00m\n\u001b[1;32m    229\u001b[0m \u001b[38;5;66;03m# single panel\u001b[39;00m\n\u001b[1;32m    230\u001b[0m \u001b[38;5;28;01melse\u001b[39;00m:\n\u001b[1;32m    232\u001b[0m     img \u001b[38;5;241m=\u001b[39m da\u001b[38;5;241m.\u001b[39msqueeze(dim\u001b[38;5;241m=\u001b[39mindex_dim)\u001b[38;5;241m.\u001b[39mplot\u001b[38;5;241m.\u001b[39mimshow(\n\u001b[1;32m    233\u001b[0m         robust\u001b[38;5;241m=\u001b[39mrobust, \u001b[38;5;241m*\u001b[39m\u001b[38;5;241m*\u001b[39maspect_size_kwarg, \u001b[38;5;241m*\u001b[39m\u001b[38;5;241m*\u001b[39mkwargs\n\u001b[1;32m    234\u001b[0m     )\n",
      "File \u001b[0;32m/usr/local/lib/python3.10/dist-packages/xarray/plot/plot.py:827\u001b[0m, in \u001b[0;36m_plot2d.<locals>.plotmethod\u001b[0;34m(_PlotMethods_obj, x, y, figsize, size, aspect, ax, row, col, col_wrap, xincrease, yincrease, add_colorbar, add_labels, vmin, vmax, cmap, colors, center, robust, extend, levels, infer_intervals, subplot_kws, cbar_ax, cbar_kwargs, xscale, yscale, xticks, yticks, xlim, ylim, norm, **kwargs)\u001b[0m\n\u001b[1;32m    825\u001b[0m \u001b[38;5;28;01mfor\u001b[39;00m arg \u001b[38;5;129;01min\u001b[39;00m [\u001b[38;5;124m\"\u001b[39m\u001b[38;5;124m_PlotMethods_obj\u001b[39m\u001b[38;5;124m\"\u001b[39m, \u001b[38;5;124m\"\u001b[39m\u001b[38;5;124mnewplotfunc\u001b[39m\u001b[38;5;124m\"\u001b[39m, \u001b[38;5;124m\"\u001b[39m\u001b[38;5;124mkwargs\u001b[39m\u001b[38;5;124m\"\u001b[39m]:\n\u001b[1;32m    826\u001b[0m     \u001b[38;5;28;01mdel\u001b[39;00m allargs[arg]\n\u001b[0;32m--> 827\u001b[0m \u001b[38;5;28;01mreturn\u001b[39;00m \u001b[43mnewplotfunc\u001b[49m\u001b[43m(\u001b[49m\u001b[38;5;241;43m*\u001b[39;49m\u001b[38;5;241;43m*\u001b[39;49m\u001b[43mallargs\u001b[49m\u001b[43m)\u001b[49m\n",
      "File \u001b[0;32m/usr/local/lib/python3.10/dist-packages/xarray/plot/plot.py:638\u001b[0m, in \u001b[0;36m_plot2d.<locals>.newplotfunc\u001b[0;34m(darray, x, y, figsize, size, aspect, ax, row, col, col_wrap, xincrease, yincrease, add_colorbar, add_labels, vmin, vmax, cmap, center, robust, extend, levels, infer_intervals, colors, subplot_kws, cbar_ax, cbar_kwargs, xscale, yscale, xticks, yticks, xlim, ylim, norm, **kwargs)\u001b[0m\n\u001b[1;32m    636\u001b[0m     \u001b[38;5;66;03m# Need the decorated plotting function\u001b[39;00m\n\u001b[1;32m    637\u001b[0m     allargs[\u001b[38;5;124m\"\u001b[39m\u001b[38;5;124mplotfunc\u001b[39m\u001b[38;5;124m\"\u001b[39m] \u001b[38;5;241m=\u001b[39m \u001b[38;5;28mglobals\u001b[39m()[plotfunc\u001b[38;5;241m.\u001b[39m\u001b[38;5;18m__name__\u001b[39m]\n\u001b[0;32m--> 638\u001b[0m     \u001b[38;5;28;01mreturn\u001b[39;00m \u001b[43m_easy_facetgrid\u001b[49m\u001b[43m(\u001b[49m\u001b[43mdarray\u001b[49m\u001b[43m,\u001b[49m\u001b[43m \u001b[49m\u001b[43mkind\u001b[49m\u001b[38;5;241;43m=\u001b[39;49m\u001b[38;5;124;43m\"\u001b[39;49m\u001b[38;5;124;43mdataarray\u001b[39;49m\u001b[38;5;124;43m\"\u001b[39;49m\u001b[43m,\u001b[49m\u001b[43m \u001b[49m\u001b[38;5;241;43m*\u001b[39;49m\u001b[38;5;241;43m*\u001b[39;49m\u001b[43mallargs\u001b[49m\u001b[43m)\u001b[49m\n\u001b[1;32m    640\u001b[0m plt \u001b[38;5;241m=\u001b[39m import_matplotlib_pyplot()\n\u001b[1;32m    642\u001b[0m rgb \u001b[38;5;241m=\u001b[39m kwargs\u001b[38;5;241m.\u001b[39mpop(\u001b[38;5;124m\"\u001b[39m\u001b[38;5;124mrgb\u001b[39m\u001b[38;5;124m\"\u001b[39m, \u001b[38;5;28;01mNone\u001b[39;00m)\n",
      "File \u001b[0;32m/usr/local/lib/python3.10/dist-packages/xarray/plot/facetgrid.py:644\u001b[0m, in \u001b[0;36m_easy_facetgrid\u001b[0;34m(data, plotfunc, kind, x, y, row, col, col_wrap, sharex, sharey, aspect, size, subplot_kws, ax, figsize, **kwargs)\u001b[0m\n\u001b[1;32m    641\u001b[0m     \u001b[38;5;28;01mreturn\u001b[39;00m g\u001b[38;5;241m.\u001b[39mmap_dataarray_line(plotfunc, x, y, \u001b[38;5;241m*\u001b[39m\u001b[38;5;241m*\u001b[39mkwargs)\n\u001b[1;32m    643\u001b[0m \u001b[38;5;28;01mif\u001b[39;00m kind \u001b[38;5;241m==\u001b[39m \u001b[38;5;124m\"\u001b[39m\u001b[38;5;124mdataarray\u001b[39m\u001b[38;5;124m\"\u001b[39m:\n\u001b[0;32m--> 644\u001b[0m     \u001b[38;5;28;01mreturn\u001b[39;00m \u001b[43mg\u001b[49m\u001b[38;5;241;43m.\u001b[39;49m\u001b[43mmap_dataarray\u001b[49m\u001b[43m(\u001b[49m\u001b[43mplotfunc\u001b[49m\u001b[43m,\u001b[49m\u001b[43m \u001b[49m\u001b[43mx\u001b[49m\u001b[43m,\u001b[49m\u001b[43m \u001b[49m\u001b[43my\u001b[49m\u001b[43m,\u001b[49m\u001b[43m \u001b[49m\u001b[38;5;241;43m*\u001b[39;49m\u001b[38;5;241;43m*\u001b[39;49m\u001b[43mkwargs\u001b[49m\u001b[43m)\u001b[49m\n\u001b[1;32m    646\u001b[0m \u001b[38;5;28;01mif\u001b[39;00m kind \u001b[38;5;241m==\u001b[39m \u001b[38;5;124m\"\u001b[39m\u001b[38;5;124mdataset\u001b[39m\u001b[38;5;124m\"\u001b[39m:\n\u001b[1;32m    647\u001b[0m     \u001b[38;5;28;01mreturn\u001b[39;00m g\u001b[38;5;241m.\u001b[39mmap_dataset(plotfunc, x, y, \u001b[38;5;241m*\u001b[39m\u001b[38;5;241m*\u001b[39mkwargs)\n",
      "File \u001b[0;32m/usr/local/lib/python3.10/dist-packages/xarray/plot/facetgrid.py:265\u001b[0m, in \u001b[0;36mFacetGrid.map_dataarray\u001b[0;34m(self, func, x, y, **kwargs)\u001b[0m\n\u001b[1;32m    261\u001b[0m func_kwargs\u001b[38;5;241m.\u001b[39mupdate({\u001b[38;5;124m\"\u001b[39m\u001b[38;5;124madd_colorbar\u001b[39m\u001b[38;5;124m\"\u001b[39m: \u001b[38;5;28;01mFalse\u001b[39;00m, \u001b[38;5;124m\"\u001b[39m\u001b[38;5;124madd_labels\u001b[39m\u001b[38;5;124m\"\u001b[39m: \u001b[38;5;28;01mFalse\u001b[39;00m})\n\u001b[1;32m    263\u001b[0m \u001b[38;5;66;03m# Get x, y labels for the first subplot\u001b[39;00m\n\u001b[1;32m    264\u001b[0m x, y \u001b[38;5;241m=\u001b[39m _infer_xy_labels(\n\u001b[0;32m--> 265\u001b[0m     darray\u001b[38;5;241m=\u001b[39m\u001b[38;5;28;43mself\u001b[39;49m\u001b[38;5;241;43m.\u001b[39;49m\u001b[43mdata\u001b[49m\u001b[38;5;241;43m.\u001b[39;49m\u001b[43mloc\u001b[49m\u001b[43m[\u001b[49m\u001b[38;5;28;43mself\u001b[39;49m\u001b[38;5;241;43m.\u001b[39;49m\u001b[43mname_dicts\u001b[49m\u001b[38;5;241;43m.\u001b[39;49m\u001b[43mflat\u001b[49m\u001b[43m[\u001b[49m\u001b[38;5;241;43m0\u001b[39;49m\u001b[43m]\u001b[49m\u001b[43m]\u001b[49m,\n\u001b[1;32m    266\u001b[0m     x\u001b[38;5;241m=\u001b[39mx,\n\u001b[1;32m    267\u001b[0m     y\u001b[38;5;241m=\u001b[39my,\n\u001b[1;32m    268\u001b[0m     imshow\u001b[38;5;241m=\u001b[39mfunc\u001b[38;5;241m.\u001b[39m\u001b[38;5;18m__name__\u001b[39m \u001b[38;5;241m==\u001b[39m \u001b[38;5;124m\"\u001b[39m\u001b[38;5;124mimshow\u001b[39m\u001b[38;5;124m\"\u001b[39m,\n\u001b[1;32m    269\u001b[0m     rgb\u001b[38;5;241m=\u001b[39mkwargs\u001b[38;5;241m.\u001b[39mget(\u001b[38;5;124m\"\u001b[39m\u001b[38;5;124mrgb\u001b[39m\u001b[38;5;124m\"\u001b[39m, \u001b[38;5;28;01mNone\u001b[39;00m),\n\u001b[1;32m    270\u001b[0m )\n\u001b[1;32m    272\u001b[0m \u001b[38;5;28;01mfor\u001b[39;00m d, ax \u001b[38;5;129;01min\u001b[39;00m \u001b[38;5;28mzip\u001b[39m(\u001b[38;5;28mself\u001b[39m\u001b[38;5;241m.\u001b[39mname_dicts\u001b[38;5;241m.\u001b[39mflat, \u001b[38;5;28mself\u001b[39m\u001b[38;5;241m.\u001b[39maxes\u001b[38;5;241m.\u001b[39mflat):\n\u001b[1;32m    273\u001b[0m     \u001b[38;5;66;03m# None is the sentinel value\u001b[39;00m\n\u001b[1;32m    274\u001b[0m     \u001b[38;5;28;01mif\u001b[39;00m d \u001b[38;5;129;01mis\u001b[39;00m \u001b[38;5;129;01mnot\u001b[39;00m \u001b[38;5;28;01mNone\u001b[39;00m:\n",
      "File \u001b[0;32m/usr/local/lib/python3.10/dist-packages/xarray/core/dataarray.py:198\u001b[0m, in \u001b[0;36m_LocIndexer.__getitem__\u001b[0;34m(self, key)\u001b[0m\n\u001b[1;32m    196\u001b[0m     labels \u001b[38;5;241m=\u001b[39m indexing\u001b[38;5;241m.\u001b[39mexpanded_indexer(key, \u001b[38;5;28mself\u001b[39m\u001b[38;5;241m.\u001b[39mdata_array\u001b[38;5;241m.\u001b[39mndim)\n\u001b[1;32m    197\u001b[0m     key \u001b[38;5;241m=\u001b[39m \u001b[38;5;28mdict\u001b[39m(\u001b[38;5;28mzip\u001b[39m(\u001b[38;5;28mself\u001b[39m\u001b[38;5;241m.\u001b[39mdata_array\u001b[38;5;241m.\u001b[39mdims, labels))\n\u001b[0;32m--> 198\u001b[0m \u001b[38;5;28;01mreturn\u001b[39;00m \u001b[38;5;28;43mself\u001b[39;49m\u001b[38;5;241;43m.\u001b[39;49m\u001b[43mdata_array\u001b[49m\u001b[38;5;241;43m.\u001b[39;49m\u001b[43msel\u001b[49m\u001b[43m(\u001b[49m\u001b[38;5;241;43m*\u001b[39;49m\u001b[38;5;241;43m*\u001b[39;49m\u001b[43mkey\u001b[49m\u001b[43m)\u001b[49m\n",
      "File \u001b[0;32m/usr/local/lib/python3.10/dist-packages/xarray/core/dataarray.py:1149\u001b[0m, in \u001b[0;36mDataArray.sel\u001b[0;34m(self, indexers, method, tolerance, drop, **indexers_kwargs)\u001b[0m\n\u001b[1;32m   1068\u001b[0m \u001b[38;5;28;01mdef\u001b[39;00m \u001b[38;5;21msel\u001b[39m(\n\u001b[1;32m   1069\u001b[0m     \u001b[38;5;28mself\u001b[39m,\n\u001b[1;32m   1070\u001b[0m     indexers: Mapping[Hashable, Any] \u001b[38;5;241m=\u001b[39m \u001b[38;5;28;01mNone\u001b[39;00m,\n\u001b[0;32m   (...)\u001b[0m\n\u001b[1;32m   1074\u001b[0m     \u001b[38;5;241m*\u001b[39m\u001b[38;5;241m*\u001b[39mindexers_kwargs: Any,\n\u001b[1;32m   1075\u001b[0m ) \u001b[38;5;241m-\u001b[39m\u001b[38;5;241m>\u001b[39m \u001b[38;5;124m\"\u001b[39m\u001b[38;5;124mDataArray\u001b[39m\u001b[38;5;124m\"\u001b[39m:\n\u001b[1;32m   1076\u001b[0m \u001b[38;5;250m    \u001b[39m\u001b[38;5;124;03m\"\"\"Return a new DataArray whose data is given by selecting index\u001b[39;00m\n\u001b[1;32m   1077\u001b[0m \u001b[38;5;124;03m    labels along the specified dimension(s).\u001b[39;00m\n\u001b[1;32m   1078\u001b[0m \n\u001b[0;32m   (...)\u001b[0m\n\u001b[1;32m   1147\u001b[0m \n\u001b[1;32m   1148\u001b[0m \u001b[38;5;124;03m    \"\"\"\u001b[39;00m\n\u001b[0;32m-> 1149\u001b[0m     ds \u001b[38;5;241m=\u001b[39m \u001b[38;5;28;43mself\u001b[39;49m\u001b[38;5;241;43m.\u001b[39;49m\u001b[43m_to_temp_dataset\u001b[49m\u001b[43m(\u001b[49m\u001b[43m)\u001b[49m\u001b[38;5;241;43m.\u001b[39;49m\u001b[43msel\u001b[49m\u001b[43m(\u001b[49m\n\u001b[1;32m   1150\u001b[0m \u001b[43m        \u001b[49m\u001b[43mindexers\u001b[49m\u001b[38;5;241;43m=\u001b[39;49m\u001b[43mindexers\u001b[49m\u001b[43m,\u001b[49m\n\u001b[1;32m   1151\u001b[0m \u001b[43m        \u001b[49m\u001b[43mdrop\u001b[49m\u001b[38;5;241;43m=\u001b[39;49m\u001b[43mdrop\u001b[49m\u001b[43m,\u001b[49m\n\u001b[1;32m   1152\u001b[0m \u001b[43m        \u001b[49m\u001b[43mmethod\u001b[49m\u001b[38;5;241;43m=\u001b[39;49m\u001b[43mmethod\u001b[49m\u001b[43m,\u001b[49m\n\u001b[1;32m   1153\u001b[0m \u001b[43m        \u001b[49m\u001b[43mtolerance\u001b[49m\u001b[38;5;241;43m=\u001b[39;49m\u001b[43mtolerance\u001b[49m\u001b[43m,\u001b[49m\n\u001b[1;32m   1154\u001b[0m \u001b[43m        \u001b[49m\u001b[38;5;241;43m*\u001b[39;49m\u001b[38;5;241;43m*\u001b[39;49m\u001b[43mindexers_kwargs\u001b[49m\u001b[43m,\u001b[49m\n\u001b[1;32m   1155\u001b[0m \u001b[43m    \u001b[49m\u001b[43m)\u001b[49m\n\u001b[1;32m   1156\u001b[0m     \u001b[38;5;28;01mreturn\u001b[39;00m \u001b[38;5;28mself\u001b[39m\u001b[38;5;241m.\u001b[39m_from_temp_dataset(ds)\n",
      "File \u001b[0;32m/usr/local/lib/python3.10/dist-packages/xarray/core/dataset.py:2101\u001b[0m, in \u001b[0;36mDataset.sel\u001b[0;34m(self, indexers, method, tolerance, drop, **indexers_kwargs)\u001b[0m\n\u001b[1;32m   2039\u001b[0m \u001b[38;5;250m\u001b[39m\u001b[38;5;124;03m\"\"\"Returns a new dataset with each array indexed by tick labels\u001b[39;00m\n\u001b[1;32m   2040\u001b[0m \u001b[38;5;124;03malong the specified dimension(s).\u001b[39;00m\n\u001b[1;32m   2041\u001b[0m \n\u001b[0;32m   (...)\u001b[0m\n\u001b[1;32m   2098\u001b[0m \u001b[38;5;124;03mDataArray.sel\u001b[39;00m\n\u001b[1;32m   2099\u001b[0m \u001b[38;5;124;03m\"\"\"\u001b[39;00m\n\u001b[1;32m   2100\u001b[0m indexers \u001b[38;5;241m=\u001b[39m either_dict_or_kwargs(indexers, indexers_kwargs, \u001b[38;5;124m\"\u001b[39m\u001b[38;5;124msel\u001b[39m\u001b[38;5;124m\"\u001b[39m)\n\u001b[0;32m-> 2101\u001b[0m pos_indexers, new_indexes \u001b[38;5;241m=\u001b[39m \u001b[43mremap_label_indexers\u001b[49m\u001b[43m(\u001b[49m\n\u001b[1;32m   2102\u001b[0m \u001b[43m    \u001b[49m\u001b[38;5;28;43mself\u001b[39;49m\u001b[43m,\u001b[49m\u001b[43m \u001b[49m\u001b[43mindexers\u001b[49m\u001b[38;5;241;43m=\u001b[39;49m\u001b[43mindexers\u001b[49m\u001b[43m,\u001b[49m\u001b[43m \u001b[49m\u001b[43mmethod\u001b[49m\u001b[38;5;241;43m=\u001b[39;49m\u001b[43mmethod\u001b[49m\u001b[43m,\u001b[49m\u001b[43m \u001b[49m\u001b[43mtolerance\u001b[49m\u001b[38;5;241;43m=\u001b[39;49m\u001b[43mtolerance\u001b[49m\n\u001b[1;32m   2103\u001b[0m \u001b[43m\u001b[49m\u001b[43m)\u001b[49m\n\u001b[1;32m   2104\u001b[0m result \u001b[38;5;241m=\u001b[39m \u001b[38;5;28mself\u001b[39m\u001b[38;5;241m.\u001b[39misel(indexers\u001b[38;5;241m=\u001b[39mpos_indexers, drop\u001b[38;5;241m=\u001b[39mdrop)\n\u001b[1;32m   2105\u001b[0m \u001b[38;5;28;01mreturn\u001b[39;00m result\u001b[38;5;241m.\u001b[39m_overwrite_indexes(new_indexes)\n",
      "File \u001b[0;32m/usr/local/lib/python3.10/dist-packages/xarray/core/coordinates.py:396\u001b[0m, in \u001b[0;36mremap_label_indexers\u001b[0;34m(obj, indexers, method, tolerance, **indexers_kwargs)\u001b[0m\n\u001b[1;32m    389\u001b[0m indexers \u001b[38;5;241m=\u001b[39m either_dict_or_kwargs(indexers, indexers_kwargs, \u001b[38;5;124m\"\u001b[39m\u001b[38;5;124mremap_label_indexers\u001b[39m\u001b[38;5;124m\"\u001b[39m)\n\u001b[1;32m    391\u001b[0m v_indexers \u001b[38;5;241m=\u001b[39m {\n\u001b[1;32m    392\u001b[0m     k: v\u001b[38;5;241m.\u001b[39mvariable\u001b[38;5;241m.\u001b[39mdata \u001b[38;5;28;01mif\u001b[39;00m \u001b[38;5;28misinstance\u001b[39m(v, DataArray) \u001b[38;5;28;01melse\u001b[39;00m v\n\u001b[1;32m    393\u001b[0m     \u001b[38;5;28;01mfor\u001b[39;00m k, v \u001b[38;5;129;01min\u001b[39;00m indexers\u001b[38;5;241m.\u001b[39mitems()\n\u001b[1;32m    394\u001b[0m }\n\u001b[0;32m--> 396\u001b[0m pos_indexers, new_indexes \u001b[38;5;241m=\u001b[39m \u001b[43mindexing\u001b[49m\u001b[38;5;241;43m.\u001b[39;49m\u001b[43mremap_label_indexers\u001b[49m\u001b[43m(\u001b[49m\n\u001b[1;32m    397\u001b[0m \u001b[43m    \u001b[49m\u001b[43mobj\u001b[49m\u001b[43m,\u001b[49m\u001b[43m \u001b[49m\u001b[43mv_indexers\u001b[49m\u001b[43m,\u001b[49m\u001b[43m \u001b[49m\u001b[43mmethod\u001b[49m\u001b[38;5;241;43m=\u001b[39;49m\u001b[43mmethod\u001b[49m\u001b[43m,\u001b[49m\u001b[43m \u001b[49m\u001b[43mtolerance\u001b[49m\u001b[38;5;241;43m=\u001b[39;49m\u001b[43mtolerance\u001b[49m\n\u001b[1;32m    398\u001b[0m \u001b[43m\u001b[49m\u001b[43m)\u001b[49m\n\u001b[1;32m    399\u001b[0m \u001b[38;5;66;03m# attach indexer's coordinate to pos_indexers\u001b[39;00m\n\u001b[1;32m    400\u001b[0m \u001b[38;5;28;01mfor\u001b[39;00m k, v \u001b[38;5;129;01min\u001b[39;00m indexers\u001b[38;5;241m.\u001b[39mitems():\n",
      "File \u001b[0;32m/usr/local/lib/python3.10/dist-packages/xarray/core/indexing.py:270\u001b[0m, in \u001b[0;36mremap_label_indexers\u001b[0;34m(data_obj, indexers, method, tolerance)\u001b[0m\n\u001b[1;32m    268\u001b[0m coords_dtype \u001b[38;5;241m=\u001b[39m data_obj\u001b[38;5;241m.\u001b[39mcoords[dim]\u001b[38;5;241m.\u001b[39mdtype\n\u001b[1;32m    269\u001b[0m label \u001b[38;5;241m=\u001b[39m maybe_cast_to_coords_dtype(label, coords_dtype)\n\u001b[0;32m--> 270\u001b[0m idxr, new_idx \u001b[38;5;241m=\u001b[39m \u001b[43mconvert_label_indexer\u001b[49m\u001b[43m(\u001b[49m\u001b[43mindex\u001b[49m\u001b[43m,\u001b[49m\u001b[43m \u001b[49m\u001b[43mlabel\u001b[49m\u001b[43m,\u001b[49m\u001b[43m \u001b[49m\u001b[43mdim\u001b[49m\u001b[43m,\u001b[49m\u001b[43m \u001b[49m\u001b[43mmethod\u001b[49m\u001b[43m,\u001b[49m\u001b[43m \u001b[49m\u001b[43mtolerance\u001b[49m\u001b[43m)\u001b[49m\n\u001b[1;32m    271\u001b[0m pos_indexers[dim] \u001b[38;5;241m=\u001b[39m idxr\n\u001b[1;32m    272\u001b[0m \u001b[38;5;28;01mif\u001b[39;00m new_idx \u001b[38;5;129;01mis\u001b[39;00m \u001b[38;5;129;01mnot\u001b[39;00m \u001b[38;5;28;01mNone\u001b[39;00m:\n",
      "File \u001b[0;32m/usr/local/lib/python3.10/dist-packages/xarray/core/indexing.py:189\u001b[0m, in \u001b[0;36mconvert_label_indexer\u001b[0;34m(index, label, index_name, method, tolerance)\u001b[0m\n\u001b[1;32m    187\u001b[0m         indexer \u001b[38;5;241m=\u001b[39m index\u001b[38;5;241m.\u001b[39mget_loc(label\u001b[38;5;241m.\u001b[39mitem())\n\u001b[1;32m    188\u001b[0m     \u001b[38;5;28;01melse\u001b[39;00m:\n\u001b[0;32m--> 189\u001b[0m         indexer \u001b[38;5;241m=\u001b[39m \u001b[43mindex\u001b[49m\u001b[38;5;241;43m.\u001b[39;49m\u001b[43mget_loc\u001b[49m\u001b[43m(\u001b[49m\n\u001b[1;32m    190\u001b[0m \u001b[43m            \u001b[49m\u001b[43mlabel\u001b[49m\u001b[38;5;241;43m.\u001b[39;49m\u001b[43mitem\u001b[49m\u001b[43m(\u001b[49m\u001b[43m)\u001b[49m\u001b[43m,\u001b[49m\u001b[43m \u001b[49m\u001b[43mmethod\u001b[49m\u001b[38;5;241;43m=\u001b[39;49m\u001b[43mmethod\u001b[49m\u001b[43m,\u001b[49m\u001b[43m \u001b[49m\u001b[43mtolerance\u001b[49m\u001b[38;5;241;43m=\u001b[39;49m\u001b[43mtolerance\u001b[49m\n\u001b[1;32m    191\u001b[0m \u001b[43m        \u001b[49m\u001b[43m)\u001b[49m\n\u001b[1;32m    192\u001b[0m \u001b[38;5;28;01melif\u001b[39;00m label\u001b[38;5;241m.\u001b[39mdtype\u001b[38;5;241m.\u001b[39mkind \u001b[38;5;241m==\u001b[39m \u001b[38;5;124m\"\u001b[39m\u001b[38;5;124mb\u001b[39m\u001b[38;5;124m\"\u001b[39m:\n\u001b[1;32m    193\u001b[0m     indexer \u001b[38;5;241m=\u001b[39m label\n",
      "File \u001b[0;32m/usr/local/lib/python3.10/dist-packages/pandas/core/indexes/datetimes.py:700\u001b[0m, in \u001b[0;36mDatetimeIndex.get_loc\u001b[0;34m(self, key, method, tolerance)\u001b[0m\n\u001b[1;32m    696\u001b[0m     \u001b[38;5;28;01mreturn\u001b[39;00m \u001b[38;5;28mself\u001b[39m\u001b[38;5;241m.\u001b[39mindexer_at_time(key)\n\u001b[1;32m    698\u001b[0m \u001b[38;5;28;01melse\u001b[39;00m:\n\u001b[1;32m    699\u001b[0m     \u001b[38;5;66;03m# unrecognized type\u001b[39;00m\n\u001b[0;32m--> 700\u001b[0m     \u001b[38;5;28;01mraise\u001b[39;00m \u001b[38;5;167;01mKeyError\u001b[39;00m(key)\n\u001b[1;32m    702\u001b[0m \u001b[38;5;28;01mtry\u001b[39;00m:\n\u001b[1;32m    703\u001b[0m     \u001b[38;5;28;01mreturn\u001b[39;00m Index\u001b[38;5;241m.\u001b[39mget_loc(\u001b[38;5;28mself\u001b[39m, key, method, tolerance)\n",
      "\u001b[0;31mKeyError\u001b[0m: 1622883234000000000"
     ]
    },
    {
     "data": {
      "image/png": "[encoded data removed]",
      "text/plain": [
       "<Figure size 2064.75x600 with 4 Axes>"
      ]
     },
     "metadata": {},
     "output_type": "display_data"
    }
   ],
   "source": [
    "rgb(ds, index=[0,1,2,3])"
   ]
  },
  {
   "cell_type": "markdown",
   "metadata": {},
   "source": [
    "***\n",
    "\n",
    "## Additional information\n",
    "\n",
    "**License:** The code in this notebook is licensed under the [Apache License, Version 2.0](https://www.apache.org/licenses/LICENSE-2.0). \n",
    "Digital Earth Africa data is licensed under the [Creative Commons by Attribution 4.0](https://creativecommons.org/licenses/by/4.0/) license.\n",
    "\n",
    "**Contact:** If you need assistance, please post a question on the [Open Data Cube Slack channel](http://slack.opendatacube.org/) or on the [GIS Stack Exchange](https://gis.stackexchange.com/questions/ask?tags=open-data-cube) using the `open-data-cube` tag (you can view previously asked questions [here](https://gis.stackexchange.com/questions/tagged/open-data-cube)).\n",
    "If you would like to report an issue with this notebook, you can file one on [Github](https://github.com/digitalearthafrica/deafrica-sandbox-notebooks).\n",
    "\n",
    "**Last modified:** June 2020\n",
    "\n",
    "**Compatible datacube version:** "
   ]
  },
  {
   "cell_type": "code",
   "execution_count": null,
   "metadata": {},
   "outputs": [],
   "source": [
    "print(datacube.__version__)"
   ]
  },
  {
   "cell_type": "markdown",
   "metadata": {},
   "source": [
    "## Tags\n",
    "Browse all available tags on the DE Africa User Guide's [Tags Index]()"
   ]
  },
  {
   "cell_type": "raw",
   "metadata": {
    "raw_mimetype": "text/restructuredtext"
   },
   "source": [
    "**Tags**: :index:`deafrica_datahandling`, :index:`deafrica_plotting`, :index:`load_ard`, :index:`rgb`, :Sentinel-2`"
   ]
  },
  {
   "cell_type": "code",
   "execution_count": 6,
   "metadata": {},
   "outputs": [
    {
     "name": "stdout",
     "output_type": "stream",
     "text": [
      "affine==2.4.0\r\n",
      "aiobotocore==1.0.7\r\n",
      "aiohttp==3.9.1\r\n",
      "aioitertools==0.11.0\r\n",
      "aiosignal==1.3.1\r\n",
      "anyio==3.7.1\r\n",
      "argon2-cffi==23.1.0\r\n",
      "argon2-cffi-bindings==21.2.0\r\n",
      "asttokens==2.4.1\r\n",
      "async-timeout==4.0.3\r\n",
      "attrs==23.1.0\r\n",
      "awscli==1.18.32\r\n",
      "Babel==2.13.1\r\n",
      "beautifulsoup4==4.12.2\r\n",
      "bleach==6.1.0\r\n",
      "boltons==23.1.1\r\n",
      "boto3==1.12.32\r\n",
      "botocore==1.15.32\r\n",
      "branca==0.7.0\r\n",
      "cachetools==5.3.2\r\n",
      "cattrs==23.2.3\r\n",
      "certifi==2023.11.17\r\n",
      "cffi==1.16.0\r\n",
      "cftime==1.6.3\r\n",
      "charset-normalizer==3.3.2\r\n",
      "ciso8601==2.3.1\r\n",
      "click==8.1.7\r\n",
      "click-plugins==1.1.1\r\n",
      "cligj==0.7.2\r\n",
      "cloudpickle==3.0.0\r\n",
      "colorama==0.4.3\r\n",
      "comm==0.2.0\r\n",
      "contourpy==1.2.0\r\n",
      "cycler==0.12.1\r\n",
      "dask==2023.12.0\r\n",
      "dask-image==2023.3.0\r\n",
      "datacube==1.8.17\r\n",
      "datadog==0.47.0\r\n",
      "debugpy==1.8.0\r\n",
      "decorator==5.1.1\r\n",
      "defusedxml==0.7.1\r\n",
      "deprecat==2.1.1\r\n",
      "distributed==2023.12.0\r\n",
      "docutils==0.15.2\r\n",
      "entrypoints==0.4\r\n",
      "eodatasets3==0.29.7\r\n",
      "exceptiongroup==1.2.0\r\n",
      "executing==2.0.1\r\n",
      "fastjsonschema==2.19.0\r\n",
      "Fiona==1.8.22\r\n",
      "folium==0.15.1\r\n",
      "fonttools==4.46.0\r\n",
      "frozenlist==1.4.0\r\n",
      "fsspec==2023.12.1\r\n",
      "GDAL==3.6.3\r\n",
      "GeoAlchemy2==0.14.2\r\n",
      "geopandas==0.13.2\r\n",
      "greenlet==3.0.1\r\n",
      "h5py==3.10.0\r\n",
      "idna==3.6\r\n",
      "imageio==2.33.0\r\n",
      "importlib-metadata==7.0.0\r\n",
      "importlib-resources==6.1.1\r\n",
      "iniconfig==2.0.0\r\n",
      "ipykernel==6.27.1\r\n",
      "ipyleaflet==0.18.0\r\n",
      "ipython==8.18.1\r\n",
      "ipython-genutils==0.2.0\r\n",
      "ipywidgets==8.1.1\r\n",
      "jedi==0.19.1\r\n",
      "Jinja2==3.1.2\r\n",
      "jmespath==0.10.0\r\n",
      "json5==0.9.14\r\n",
      "jsonschema==4.20.0\r\n",
      "jsonschema-specifications==2023.11.2\r\n",
      "jupyter==1.0.0\r\n",
      "jupyter-client==7.2.0\r\n",
      "jupyter-console==6.6.3\r\n",
      "jupyter-server==1.24.0\r\n",
      "jupyter-ui-poll==0.2.2\r\n",
      "jupyter_core==5.5.0\r\n",
      "jupyterlab==3.2.0\r\n",
      "jupyterlab-widgets==3.0.9\r\n",
      "jupyterlab_pygments==0.3.0\r\n",
      "jupyterlab_server==2.25.2\r\n",
      "kiwisolver==1.4.5\r\n",
      "lark==1.1.8\r\n",
      "lazy_loader==0.3\r\n",
      "lmdb==1.4.1\r\n",
      "locket==1.0.0\r\n",
      "MarkupSafe==2.1.3\r\n",
      "matplotlib==3.8.2\r\n",
      "matplotlib-inline==0.1.6\r\n",
      "mistune==3.0.2\r\n",
      "msgpack==1.0.7\r\n",
      "multidict==6.0.4\r\n",
      "munch==4.0.0\r\n",
      "nbclassic==0.5.6\r\n",
      "nbclient==0.9.0\r\n",
      "nbconvert==7.12.0\r\n",
      "nbformat==5.9.2\r\n",
      "nest-asyncio==1.5.8\r\n",
      "netCDF4==1.6.5\r\n",
      "networkx==3.2.1\r\n",
      "notebook==6.5.6\r\n",
      "notebook_shim==0.2.3\r\n",
      "numexpr==2.8.7\r\n",
      "numpy==1.26.2\r\n",
      "odc-algo==0.2.3\r\n",
      "odc-apps-dc-tools==0.2.15\r\n",
      "odc-cloud==0.2.4\r\n",
      "odc-dscache==0.2.2\r\n",
      "odc-io==0.2.2\r\n",
      "odc-stac==0.2.2\r\n",
      "odc-stats==1.0.11\r\n",
      "odc-ui==0.2.1\r\n",
      "packaging==23.2\r\n",
      "pandas==1.3.4\r\n",
      "pandocfilters==1.5.0\r\n",
      "parso==0.8.3\r\n",
      "partd==1.4.1\r\n",
      "pexpect==4.9.0\r\n",
      "Pillow==10.1.0\r\n",
      "PIMS==0.6.1\r\n",
      "platformdirs==4.1.0\r\n",
      "pluggy==1.3.0\r\n",
      "prometheus-client==0.19.0\r\n",
      "prompt-toolkit==3.0.41\r\n",
      "psutil==5.9.6\r\n",
      "psycopg2==2.9.9\r\n",
      "ptyprocess==0.7.0\r\n",
      "pure-eval==0.2.2\r\n",
      "pyasn1==0.5.1\r\n",
      "pycparser==2.21\r\n",
      "Pygments==2.17.2\r\n",
      "pyparsing==3.1.1\r\n",
      "pyproj==3.6.1\r\n",
      "pystac==1.9.0\r\n",
      "pystac-client==0.6.1\r\n",
      "pytest==7.4.3\r\n",
      "python-dateutil==2.7.5\r\n",
      "python-rapidjson==1.13\r\n",
      "pytz==2023.3.post1\r\n",
      "PyYAML==5.3.1\r\n",
      "pyzmq==24.0.1\r\n",
      "qtconsole==5.5.1\r\n",
      "QtPy==2.4.1\r\n",
      "rasterio==1.3.9\r\n",
      "referencing==0.31.1\r\n",
      "requests==2.31.0\r\n",
      "rio-stac==0.8.1\r\n",
      "rpds-py==0.13.2\r\n",
      "rsa==3.4.2\r\n",
      "ruamel.yaml==0.18.5\r\n",
      "ruamel.yaml.clib==0.2.8\r\n",
      "s3transfer==0.3.7\r\n",
      "sat-search==0.3.0\r\n",
      "sat-stac==0.4.1\r\n",
      "scikit-image==0.22.0\r\n",
      "scipy==1.11.4\r\n",
      "Send2Trash==1.8.2\r\n",
      "shapely==2.0.2\r\n",
      "six==1.16.0\r\n",
      "slicerator==1.1.0\r\n",
      "sniffio==1.3.0\r\n",
      "snuggs==1.4.7\r\n",
      "sortedcontainers==2.4.0\r\n",
      "soupsieve==2.5\r\n",
      "SQLAlchemy==1.4.50\r\n",
      "stack-data==0.6.3\r\n",
      "structlog==23.2.0\r\n",
      "tblib==3.0.0\r\n",
      "terminado==0.18.0\r\n",
      "testbook==0.4.2\r\n",
      "tifffile==2023.9.26\r\n",
      "tinycss2==1.2.1\r\n",
      "tomli==2.0.1\r\n",
      "toolz==0.12.0\r\n",
      "tornado==6.4\r\n",
      "tqdm==4.66.1\r\n",
      "traitlets==5.14.0\r\n",
      "traittypes==0.2.1\r\n",
      "typing_extensions==4.8.0\r\n",
      "urllib3==1.25.11\r\n",
      "urlpath==1.2.0\r\n",
      "wcwidth==0.2.12\r\n",
      "webencodings==0.5.1\r\n",
      "websocket-client==1.7.0\r\n",
      "wget==3.2\r\n",
      "widgetsnbextension==4.0.9\r\n",
      "wrapt==1.16.0\r\n",
      "xarray==0.16.0\r\n",
      "xyzservices==2023.10.1\r\n",
      "yarl==1.9.3\r\n",
      "zict==3.0.0\r\n",
      "zipp==3.17.0\r\n",
      "zstandard==0.22.0\r\n"
     ]
    }
   ],
   "source": [
    "!pip freeze"
   ]
  },
  {
   "cell_type": "code",
   "execution_count": 5,
   "metadata": {},
   "outputs": [
    {
     "name": "stdout",
     "output_type": "stream",
     "text": [
      "Requirement already satisfied: dask==2023.12.0 in /usr/local/lib/python3.10/dist-packages (2023.12.0)\n",
      "Requirement already satisfied: importlib-metadata>=4.13.0 in /usr/local/lib/python3.10/dist-packages (from dask==2023.12.0) (7.0.0)\n",
      "Requirement already satisfied: packaging>=20.0 in /usr/local/lib/python3.10/dist-packages (from dask==2023.12.0) (23.2)\n",
      "Requirement already satisfied: toolz>=0.10.0 in /usr/local/lib/python3.10/dist-packages (from dask==2023.12.0) (0.12.0)\n",
      "Requirement already satisfied: fsspec>=2021.09.0 in /usr/local/lib/python3.10/dist-packages (from dask==2023.12.0) (2023.12.1)\n",
      "Requirement already satisfied: cloudpickle>=1.5.0 in /usr/local/lib/python3.10/dist-packages (from dask==2023.12.0) (3.0.0)\n",
      "Requirement already satisfied: partd>=1.2.0 in /usr/local/lib/python3.10/dist-packages (from dask==2023.12.0) (1.4.1)\n",
      "Requirement already satisfied: pyyaml>=5.3.1 in /usr/local/lib/python3.10/dist-packages (from dask==2023.12.0) (5.3.1)\n",
      "Requirement already satisfied: click>=8.1 in /usr/local/lib/python3.10/dist-packages (from dask==2023.12.0) (8.1.7)\n",
      "Requirement already satisfied: zipp>=0.5 in /usr/local/lib/python3.10/dist-packages (from importlib-metadata>=4.13.0->dask==2023.12.0) (3.17.0)\n",
      "Requirement already satisfied: locket in /usr/local/lib/python3.10/dist-packages (from partd>=1.2.0->dask==2023.12.0) (1.0.0)\n",
      "\u001b[33mWARNING: Running pip as the 'root' user can result in broken permissions and conflicting behaviour with the system package manager. It is recommended to use a virtual environment instead: https://pip.pypa.io/warnings/venv\u001b[0m\u001b[33m\n",
      "\u001b[0m"
     ]
    }
   ],
   "source": [
    "!pip install dask==2023.12.0"
   ]
  },
  {
   "cell_type": "code",
   "execution_count": null,
   "metadata": {},
   "outputs": [],
   "source": []
  }
 ],
 "metadata": {
  "kernelspec": {
   "display_name": "Python 3 (ipykernel)",
   "language": "python",
   "name": "python3"
  },
  "language_info": {
   "codemirror_mode": {
    "name": "ipython",
    "version": 3
   },
   "file_extension": ".py",
   "mimetype": "text/x-python",
   "name": "python",
   "nbconvert_exporter": "python",
   "pygments_lexer": "ipython3",
   "version": "3.10.12"
  },
  "vscode": {
   "interpreter": {
    "hash": "36f1ec0750f296e3257d4c290a6c8ed00b14af3513565f9d7fc44fe655b3805b"
   }
  },
  "widgets": {
   "application/vnd.jupyter.widget-state+json": {
    "state": {
     "1c7795a34baf4061a4170bcc11b19c01": {
      "model_module": "jupyter-leaflet",
      "model_module_version": "^0.11.1",
      "model_name": "LeafletZoomControlModel",
      "state": {
       "_model_module_version": "^0.11.1",
       "_view_count": null,
       "_view_module_version": "^0.11.1",
       "options": [
        "position",
        "zoom_in_text",
        "zoom_in_title",
        "zoom_out_text",
        "zoom_out_title"
       ]
      }
     },
     "d93582520e024946b4ef75064d893267": {
      "model_module": "jupyter-leaflet",
      "model_module_version": "^0.11.1",
      "model_name": "LeafletAttributionControlModel",
      "state": {
       "_model_module_version": "^0.11.1",
       "_view_count": null,
       "_view_module_version": "^0.11.1",
       "options": [
        "position",
        "prefix"
       ],
       "position": "bottomright",
       "prefix": "Leaflet"
      }
     }
    },
    "version_major": 2,
    "version_minor": 0
   }
  }
 },
 "nbformat": 4,
 "nbformat_minor": 4
}
