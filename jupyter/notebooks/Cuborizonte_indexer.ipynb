{
 "cells": [
  {
   "cell_type": "code",
   "execution_count": 1,
   "id": "18dcfbe2",
   "metadata": {},
   "outputs": [],
   "source": [
    "import os\n",
    "import subprocess\n",
    "import datacube\n",
    "import yaml\n",
    "import requests\n"
   ]
  },
  {
   "cell_type": "code",
   "execution_count": 2,
   "id": "1430d1a4",
   "metadata": {},
   "outputs": [],
   "source": [
    "def get_yaml_files(root_dir):\n",
    "    folders = [folder for folder in os.listdir(root_dir) if os.path.isdir(os.path.join(root_dir, folder))]\n",
    "\n",
    "    yaml_paths = []\n",
    "    for folder in folders:\n",
    "        yaml_path = os.path.join(root_dir, folder, f\"{folder}.yaml\")\n",
    "        yaml_paths.append(yaml_path)\n",
    "    return yaml_paths\n"
   ]
  },
  {
   "cell_type": "code",
   "execution_count": 3,
   "id": "91886754",
   "metadata": {},
   "outputs": [],
   "source": [
    "def add_datasets(yaml_paths):\n",
    "\n",
    "    for yaml_path in yaml_paths:\n",
    "        # Run the 'datacube dataset add' command using subprocess\n",
    "        command = ['datacube', 'dataset', 'add', yaml_path]\n",
    "        \n",
    "        try:\n",
    "            subprocess.run(command, check=True)\n",
    "            print(f\"Dataset added successfully from {yaml_path}\")\n",
    "        except subprocess.CalledProcessError as e:\n",
    "            print(f\"Error adding dataset from {yaml_path}: {e}\")"
   ]
  },
  {
   "cell_type": "code",
   "execution_count": 4,
   "id": "1b8720f4",
   "metadata": {},
   "outputs": [
    {
     "name": "stdout",
     "output_type": "stream",
     "text": [
      "                                name  \\\n",
      "name                                   \n",
      "aerial_image_1999  aerial_image_1999   \n",
      "\n",
      "                                                         description  \\\n",
      "name                                                                   \n",
      "aerial_image_1999  Aerial imagem of Belo Horizonte - Minas Gerais...   \n",
      "\n",
      "                     license default_crs     default_resolution  \n",
      "name                                                             \n",
      "aerial_image_1999  CC-BY-4.0  EPSG:29193  (-0.399711, 0.399711)  \n"
     ]
    },
    {
     "name": "stderr",
     "output_type": "stream",
     "text": [
      "Product aerial_image_1999 is already in the database, checking for differences\n"
     ]
    },
    {
     "name": "stdout",
     "output_type": "stream",
     "text": [
      "O produto aerial_image_1999 foi adicionado com sucesso.\n",
      "                                name  \\\n",
      "name                                   \n",
      "aerial_image_1999  aerial_image_1999   \n",
      "\n",
      "                                                         description  \\\n",
      "name                                                                   \n",
      "aerial_image_1999  Aerial imagem of Belo Horizonte - Minas Gerais...   \n",
      "\n",
      "                     license default_crs     default_resolution  \n",
      "name                                                             \n",
      "aerial_image_1999  CC-BY-4.0  EPSG:29193  (-0.399711, 0.399711)  \n"
     ]
    }
   ],
   "source": [
    "# Conectar ao datacube\n",
    "dc = datacube.Datacube()\n",
    "\n",
    "\n",
    "# Listar produtos\n",
    "products = dc.list_products()\n",
    "\n",
    "print(products)\n",
    "\n",
    "# URL do arquivo YAML\n",
    "yaml_url = 'https://raw.githubusercontent.com/DiegoHMM/cuborizonte_products/main/product_aerial_image_1999.yaml'\n",
    "\n",
    "# Baixar o conteúdo do arquivo YAML\n",
    "response = requests.get(yaml_url)\n",
    "yaml_content = response.text\n",
    "\n",
    "# Carregar as configurações do produto a partir do YAML\n",
    "product_definition = yaml.safe_load(yaml_content)\n",
    "\n",
    "\n",
    "\n",
    "# Adicionar o produto ao datacube\n",
    "dc.index.products.add_document(product_definition)\n",
    "\n",
    "print(f'O produto {product_definition[\"name\"]} foi adicionado com sucesso.')\n",
    "\n",
    "\n",
    "# Listar produtos\n",
    "products = dc.list_products()\n",
    "\n",
    "print(products)"
   ]
  },
  {
   "cell_type": "code",
   "execution_count": null,
   "id": "aa09b75c",
   "metadata": {
    "scrolled": true
   },
   "outputs": [
    {
     "name": "stderr",
     "output_type": "stream",
     "text": [
      "2023-12-29 17:07:41,881 73 datacube.index.postgres._datasets WARNING Dataset d24fc699-ec1f-4367-bd84-1b5ded0b83a2 is already in the database\n"
     ]
    },
    {
     "name": "stdout",
     "output_type": "stream",
     "text": [
      "Dataset added successfully from /cuborizonte/data/aerial_1999_processed/p-4243-2/p-4243-2.yaml\n"
     ]
    },
    {
     "name": "stderr",
     "output_type": "stream",
     "text": [
      "2023-12-29 17:07:43,968 104 datacube.index.postgres._datasets WARNING Dataset 1e975b26-cdff-4ed9-b902-d8992c8b202d is already in the database\n"
     ]
    },
    {
     "name": "stdout",
     "output_type": "stream",
     "text": [
      "Dataset added successfully from /cuborizonte/data/aerial_1999_processed/p-4243-4/p-4243-4.yaml\n"
     ]
    },
    {
     "name": "stderr",
     "output_type": "stream",
     "text": [
      "2023-12-29 17:07:46,305 135 datacube.index.postgres._datasets WARNING Dataset 8b725657-281e-4567-b882-522b4abcc3bd is already in the database\n"
     ]
    },
    {
     "name": "stdout",
     "output_type": "stream",
     "text": [
      "Dataset added successfully from /cuborizonte/data/aerial_1999_processed/p-4244-1/p-4244-1.yaml\n"
     ]
    },
    {
     "name": "stderr",
     "output_type": "stream",
     "text": [
      "2023-12-29 17:07:48,354 166 datacube.index.postgres._datasets WARNING Dataset 12513bfb-ffff-4163-96a8-70420070496e is already in the database\n"
     ]
    },
    {
     "name": "stdout",
     "output_type": "stream",
     "text": [
      "Dataset added successfully from /cuborizonte/data/aerial_1999_processed/p-4244-2/p-4244-2.yaml\n"
     ]
    },
    {
     "name": "stderr",
     "output_type": "stream",
     "text": [
      "2023-12-29 17:07:50,348 197 datacube.index.postgres._datasets WARNING Dataset 4588072d-9204-493e-b7ca-a1d3e8f90330 is already in the database\n"
     ]
    },
    {
     "name": "stdout",
     "output_type": "stream",
     "text": [
      "Dataset added successfully from /cuborizonte/data/aerial_1999_processed/p-4244-4/p-4244-4.yaml\n"
     ]
    },
    {
     "name": "stderr",
     "output_type": "stream",
     "text": [
      "2023-12-29 17:07:52,595 228 datacube.index.postgres._datasets WARNING Dataset 611f2df8-f464-4a69-97eb-c03f52ec4a76 is already in the database\n"
     ]
    },
    {
     "name": "stdout",
     "output_type": "stream",
     "text": [
      "Dataset added successfully from /cuborizonte/data/aerial_1999_processed/p-4245-3/p-4245-3.yaml\n"
     ]
    },
    {
     "name": "stderr",
     "output_type": "stream",
     "text": [
      "2023-12-29 17:07:54,669 259 datacube.index.postgres._datasets WARNING Dataset 9d184e8e-704a-478d-9774-bb6e082f5816 is already in the database\n"
     ]
    },
    {
     "name": "stdout",
     "output_type": "stream",
     "text": [
      "Dataset added successfully from /cuborizonte/data/aerial_1999_processed/p-4341-2/p-4341-2.yaml\n"
     ]
    },
    {
     "name": "stderr",
     "output_type": "stream",
     "text": [
      "2023-12-29 17:07:56,749 290 datacube.index.postgres._datasets WARNING Dataset 00a9d8b4-2b76-465c-8df0-dbeadd12f291 is already in the database\n"
     ]
    },
    {
     "name": "stdout",
     "output_type": "stream",
     "text": [
      "Dataset added successfully from /cuborizonte/data/aerial_1999_processed/p-4342-2/p-4342-2.yaml\n"
     ]
    },
    {
     "name": "stderr",
     "output_type": "stream",
     "text": [
      "2023-12-29 17:07:58,772 321 datacube.index.postgres._datasets WARNING Dataset b77bbe53-be11-4f24-a75d-1666c16d2d63 is already in the database\n"
     ]
    },
    {
     "name": "stdout",
     "output_type": "stream",
     "text": [
      "Dataset added successfully from /cuborizonte/data/aerial_1999_processed/p-4342-3/p-4342-3.yaml\n"
     ]
    },
    {
     "name": "stderr",
     "output_type": "stream",
     "text": [
      "2023-12-29 17:08:00,871 352 datacube.index.postgres._datasets WARNING Dataset 483ded67-af6f-4df2-8268-3ded15e25983 is already in the database\n"
     ]
    },
    {
     "name": "stdout",
     "output_type": "stream",
     "text": [
      "Dataset added successfully from /cuborizonte/data/aerial_1999_processed/p-4342-4/p-4342-4.yaml\n"
     ]
    },
    {
     "name": "stderr",
     "output_type": "stream",
     "text": [
      "2023-12-29 17:08:02,910 383 datacube.index.postgres._datasets WARNING Dataset 42cf192d-1f64-4a86-8a40-6b6ccbdd32eb is already in the database\n"
     ]
    },
    {
     "name": "stdout",
     "output_type": "stream",
     "text": [
      "Dataset added successfully from /cuborizonte/data/aerial_1999_processed/p-4343-2/p-4343-2.yaml\n"
     ]
    },
    {
     "name": "stderr",
     "output_type": "stream",
     "text": [
      "2023-12-29 17:08:04,896 414 datacube.index.postgres._datasets WARNING Dataset 439427a5-380c-4ca4-98d7-a589b5077f35 is already in the database\n"
     ]
    },
    {
     "name": "stdout",
     "output_type": "stream",
     "text": [
      "Dataset added successfully from /cuborizonte/data/aerial_1999_processed/p-4343-3/p-4343-3.yaml\n"
     ]
    },
    {
     "name": "stderr",
     "output_type": "stream",
     "text": [
      "2023-12-29 17:08:06,926 445 datacube.index.postgres._datasets WARNING Dataset 86c73cf0-56d9-401d-a5c5-1446d72e8005 is already in the database\n"
     ]
    },
    {
     "name": "stdout",
     "output_type": "stream",
     "text": [
      "Dataset added successfully from /cuborizonte/data/aerial_1999_processed/p-4343-4/p-4343-4.yaml\n"
     ]
    },
    {
     "name": "stderr",
     "output_type": "stream",
     "text": [
      "2023-12-29 17:08:08,985 476 datacube.index.postgres._datasets WARNING Dataset 01009962-e7e3-4cbb-bf2c-8f772b22b73a is already in the database\n"
     ]
    },
    {
     "name": "stdout",
     "output_type": "stream",
     "text": [
      "Dataset added successfully from /cuborizonte/data/aerial_1999_processed/p-4344-1/p-4344-1.yaml\n"
     ]
    },
    {
     "name": "stderr",
     "output_type": "stream",
     "text": [
      "2023-12-29 17:08:11,024 507 datacube.index.postgres._datasets WARNING Dataset f268d5af-0fa6-4944-aa2b-5003695bb654 is already in the database\n"
     ]
    },
    {
     "name": "stdout",
     "output_type": "stream",
     "text": [
      "Dataset added successfully from /cuborizonte/data/aerial_1999_processed/p-4344-3/p-4344-3.yaml\n"
     ]
    },
    {
     "name": "stderr",
     "output_type": "stream",
     "text": [
      "2023-12-29 17:08:13,018 538 datacube.index.postgres._datasets WARNING Dataset c9dbac94-f266-4b06-810c-aa92cc149bfc is already in the database\n"
     ]
    },
    {
     "name": "stdout",
     "output_type": "stream",
     "text": [
      "Dataset added successfully from /cuborizonte/data/aerial_1999_processed/p-4344-4/p-4344-4.yaml\n"
     ]
    },
    {
     "name": "stderr",
     "output_type": "stream",
     "text": [
      "2023-12-29 17:08:15,053 569 datacube.index.postgres._datasets WARNING Dataset 54d74a93-977c-47ad-a4ae-59d81c8e33b3 is already in the database\n"
     ]
    },
    {
     "name": "stdout",
     "output_type": "stream",
     "text": [
      "Dataset added successfully from /cuborizonte/data/aerial_1999_processed/p-4345-3/p-4345-3.yaml\n"
     ]
    },
    {
     "name": "stderr",
     "output_type": "stream",
     "text": [
      "2023-12-29 17:08:17,125 600 datacube.index.postgres._datasets WARNING Dataset 56a8c41b-6ad2-4d21-add7-8e5c522e4836 is already in the database\n"
     ]
    },
    {
     "name": "stdout",
     "output_type": "stream",
     "text": [
      "Dataset added successfully from /cuborizonte/data/aerial_1999_processed/p-4345-4/p-4345-4.yaml\n",
      "Dataset added successfully from /cuborizonte/data/aerial_1999_processed/p-4439-4/p-4439-4.yaml\n",
      "Dataset added successfully from /cuborizonte/data/aerial_1999_processed/p-4440-2/p-4440-2.yaml\n",
      "Dataset added successfully from /cuborizonte/data/aerial_1999_processed/p-4440-3/p-4440-3.yaml\n",
      "Dataset added successfully from /cuborizonte/data/aerial_1999_processed/p-4441-2/p-4441-2.yaml\n",
      "Dataset added successfully from /cuborizonte/data/aerial_1999_processed/p-4441-3/p-4441-3.yaml\n",
      "Dataset added successfully from /cuborizonte/data/aerial_1999_processed/p-4442-1/p-4442-1.yaml\n",
      "Dataset added successfully from /cuborizonte/data/aerial_1999_processed/p-4442-3/p-4442-3.yaml\n",
      "Dataset added successfully from /cuborizonte/data/aerial_1999_processed/p-4442-4/p-4442-4.yaml\n",
      "Dataset added successfully from /cuborizonte/data/aerial_1999_processed/p-4443-1/p-4443-1.yaml\n",
      "Dataset added successfully from /cuborizonte/data/aerial_1999_processed/p-4443-3/p-4443-3.yaml\n",
      "Dataset added successfully from /cuborizonte/data/aerial_1999_processed/p-4443-4/p-4443-4.yaml\n",
      "Dataset added successfully from /cuborizonte/data/aerial_1999_processed/p-4444-1/p-4444-1.yaml\n",
      "Dataset added successfully from /cuborizonte/data/aerial_1999_processed/p-4444-3/p-4444-3.yaml\n",
      "Dataset added successfully from /cuborizonte/data/aerial_1999_processed/p-4444-4/p-4444-4.yaml\n",
      "Dataset added successfully from /cuborizonte/data/aerial_1999_processed/p-4538-1/p-4538-1.yaml\n",
      "Dataset added successfully from /cuborizonte/data/aerial_1999_processed/p-4538-2/p-4538-2.yaml\n",
      "Dataset added successfully from /cuborizonte/data/aerial_1999_processed/p-4538-3/p-4538-3.yaml\n",
      "Dataset added successfully from /cuborizonte/data/aerial_1999_processed/p-4538-4/p-4538-4.yaml\n",
      "Dataset added successfully from /cuborizonte/data/aerial_1999_processed/p-4539-1/p-4539-1.yaml\n",
      "Dataset added successfully from /cuborizonte/data/aerial_1999_processed/p-4539-2/p-4539-2.yaml\n",
      "Dataset added successfully from /cuborizonte/data/aerial_1999_processed/p-4539-3/p-4539-3.yaml\n",
      "Dataset added successfully from /cuborizonte/data/aerial_1999_processed/p-4539-4/p-4539-4.yaml\n",
      "Dataset added successfully from /cuborizonte/data/aerial_1999_processed/p-4540-1/p-4540-1.yaml\n",
      "Dataset added successfully from /cuborizonte/data/aerial_1999_processed/p-4540-2/p-4540-2.yaml\n",
      "Dataset added successfully from /cuborizonte/data/aerial_1999_processed/p-4540-3/p-4540-3.yaml\n",
      "Dataset added successfully from /cuborizonte/data/aerial_1999_processed/p-4541-1/p-4541-1.yaml\n",
      "Dataset added successfully from /cuborizonte/data/aerial_1999_processed/p-4541-2/p-4541-2.yaml\n",
      "Dataset added successfully from /cuborizonte/data/aerial_1999_processed/p-4541-3/p-4541-3.yaml\n",
      "Dataset added successfully from /cuborizonte/data/aerial_1999_processed/p-4541-4/p-4541-4.yaml\n",
      "Dataset added successfully from /cuborizonte/data/aerial_1999_processed/p-4542-1/p-4542-1.yaml\n",
      "Dataset added successfully from /cuborizonte/data/aerial_1999_processed/p-4542-2/p-4542-2.yaml\n",
      "Dataset added successfully from /cuborizonte/data/aerial_1999_processed/p-4542-3/p-4542-3.yaml\n",
      "Dataset added successfully from /cuborizonte/data/aerial_1999_processed/p-4542-4/p-4542-4.yaml\n",
      "Dataset added successfully from /cuborizonte/data/aerial_1999_processed/p-4543-1/p-4543-1.yaml\n",
      "Dataset added successfully from /cuborizonte/data/aerial_1999_processed/p-4543-2/p-4543-2.yaml\n",
      "Dataset added successfully from /cuborizonte/data/aerial_1999_processed/p-4543-3/p-4543-3.yaml\n",
      "Dataset added successfully from /cuborizonte/data/aerial_1999_processed/p-4543-4/p-4543-4.yaml\n",
      "Dataset added successfully from /cuborizonte/data/aerial_1999_processed/p-4544-2/p-4544-2.yaml\n",
      "Dataset added successfully from /cuborizonte/data/aerial_1999_processed/p-4544-3/p-4544-3.yaml\n",
      "Dataset added successfully from /cuborizonte/data/aerial_1999_processed/p-4544-4/p-4544-4.yaml\n",
      "Dataset added successfully from /cuborizonte/data/aerial_1999_processed/p-4545-3/p-4545-3.yaml\n",
      "Dataset added successfully from /cuborizonte/data/aerial_1999_processed/p-4545-4/p-4545-4.yaml\n",
      "Dataset added successfully from /cuborizonte/data/aerial_1999_processed/p-4548-1/p-4548-1.yaml\n",
      "Dataset added successfully from /cuborizonte/data/aerial_1999_processed/p-4548-3/p-4548-3.yaml\n",
      "Dataset added successfully from /cuborizonte/data/aerial_1999_processed/p-4548-4/p-4548-4.yaml\n",
      "Dataset added successfully from /cuborizonte/data/aerial_1999_processed/p-4549-1/p-4549-1.yaml\n",
      "Dataset added successfully from /cuborizonte/data/aerial_1999_processed/p-4549-3/p-4549-3.yaml\n",
      "Dataset added successfully from /cuborizonte/data/aerial_1999_processed/p-4549-4/p-4549-4.yaml\n",
      "Dataset added successfully from /cuborizonte/data/aerial_1999_processed/p-4550-2/p-4550-2.yaml\n",
      "Dataset added successfully from /cuborizonte/data/aerial_1999_processed/p-4550-4/p-4550-4.yaml\n",
      "Dataset added successfully from /cuborizonte/data/aerial_1999_processed/p-4551-1/p-4551-1.yaml\n",
      "Dataset added successfully from /cuborizonte/data/aerial_1999_processed/p-4551-2/p-4551-2.yaml\n",
      "Dataset added successfully from /cuborizonte/data/aerial_1999_processed/p-4551-3/p-4551-3.yaml\n",
      "Dataset added successfully from /cuborizonte/data/aerial_1999_processed/p-4551-4/p-4551-4.yaml\n",
      "Dataset added successfully from /cuborizonte/data/aerial_1999_processed/p-4552-4/p-4552-4.yaml\n",
      "Dataset added successfully from /cuborizonte/data/aerial_1999_processed/p-4553-1/p-4553-1.yaml\n",
      "Dataset added successfully from /cuborizonte/data/aerial_1999_processed/p-4553-3/p-4553-3.yaml\n",
      "Dataset added successfully from /cuborizonte/data/aerial_1999_processed/p-4553-4/p-4553-4.yaml\n",
      "Dataset added successfully from /cuborizonte/data/aerial_1999_processed/p-4556-2/p-4556-2.yaml\n",
      "Dataset added successfully from /cuborizonte/data/aerial_1999_processed/p-4556-4/p-4556-4.yaml\n",
      "Dataset added successfully from /cuborizonte/data/aerial_1999_processed/p-4557-2/p-4557-2.yaml\n",
      "Dataset added successfully from /cuborizonte/data/aerial_1999_processed/p-4557-3/p-4557-3.yaml\n",
      "Dataset added successfully from /cuborizonte/data/aerial_1999_processed/p-4557-4/p-4557-4.yaml\n",
      "Dataset added successfully from /cuborizonte/data/aerial_1999_processed/p-4635-1/p-4635-1.yaml\n",
      "Dataset added successfully from /cuborizonte/data/aerial_1999_processed/p-4635-2/p-4635-2.yaml\n",
      "Dataset added successfully from /cuborizonte/data/aerial_1999_processed/p-4635-3/p-4635-3.yaml\n",
      "Dataset added successfully from /cuborizonte/data/aerial_1999_processed/p-4635-4/p-4635-4.yaml\n",
      "Dataset added successfully from /cuborizonte/data/aerial_1999_processed/p-4636-1/p-4636-1.yaml\n",
      "Dataset added successfully from /cuborizonte/data/aerial_1999_processed/p-4636-2/p-4636-2.yaml\n",
      "Dataset added successfully from /cuborizonte/data/aerial_1999_processed/p-4636-4/p-4636-4.yaml\n",
      "Dataset added successfully from /cuborizonte/data/aerial_1999_processed/p-4637-1/p-4637-1.yaml\n",
      "Dataset added successfully from /cuborizonte/data/aerial_1999_processed/p-4637-2/p-4637-2.yaml\n",
      "Dataset added successfully from /cuborizonte/data/aerial_1999_processed/p-4637-4/p-4637-4.yaml\n",
      "Dataset added successfully from /cuborizonte/data/aerial_1999_processed/p-4638-1/p-4638-1.yaml\n",
      "Dataset added successfully from /cuborizonte/data/aerial_1999_processed/p-4638-2/p-4638-2.yaml\n",
      "Dataset added successfully from /cuborizonte/data/aerial_1999_processed/p-4638-4/p-4638-4.yaml\n",
      "Dataset added successfully from /cuborizonte/data/aerial_1999_processed/p-4639-2/p-4639-2.yaml\n",
      "Dataset added successfully from /cuborizonte/data/aerial_1999_processed/p-4639-3/p-4639-3.yaml\n",
      "Dataset added successfully from /cuborizonte/data/aerial_1999_processed/p-4639-4/p-4639-4.yaml\n",
      "Dataset added successfully from /cuborizonte/data/aerial_1999_processed/p-4640-1/p-4640-1.yaml\n",
      "Dataset added successfully from /cuborizonte/data/aerial_1999_processed/p-4640-2/p-4640-2.yaml\n",
      "Dataset added successfully from /cuborizonte/data/aerial_1999_processed/p-4640-4/p-4640-4.yaml\n",
      "Dataset added successfully from /cuborizonte/data/aerial_1999_processed/p-4641-1/p-4641-1.yaml\n",
      "Dataset added successfully from /cuborizonte/data/aerial_1999_processed/p-4641-2/p-4641-2.yaml\n",
      "Dataset added successfully from /cuborizonte/data/aerial_1999_processed/p-4641-4/p-4641-4.yaml\n",
      "Dataset added successfully from /cuborizonte/data/aerial_1999_processed/p-4642-2/p-4642-2.yaml\n"
     ]
    },
    {
     "name": "stdout",
     "output_type": "stream",
     "text": [
      "Dataset added successfully from /cuborizonte/data/aerial_1999_processed/p-4642-3/p-4642-3.yaml\n",
      "Dataset added successfully from /cuborizonte/data/aerial_1999_processed/p-4642-4/p-4642-4.yaml\n",
      "Dataset added successfully from /cuborizonte/data/aerial_1999_processed/p-4643-2/p-4643-2.yaml\n",
      "Dataset added successfully from /cuborizonte/data/aerial_1999_processed/p-4643-3/p-4643-3.yaml\n",
      "Dataset added successfully from /cuborizonte/data/aerial_1999_processed/p-4643-4/p-4643-4.yaml\n",
      "Dataset added successfully from /cuborizonte/data/aerial_1999_processed/p-4644-2/p-4644-2.yaml\n",
      "Dataset added successfully from /cuborizonte/data/aerial_1999_processed/p-4644-3/p-4644-3.yaml\n",
      "Dataset added successfully from /cuborizonte/data/aerial_1999_processed/p-4645-2/p-4645-2.yaml\n",
      "Dataset added successfully from /cuborizonte/data/aerial_1999_processed/p-4645-3/p-4645-3.yaml\n",
      "Dataset added successfully from /cuborizonte/data/aerial_1999_processed/p-4646-1/p-4646-1.yaml\n",
      "Dataset added successfully from /cuborizonte/data/aerial_1999_processed/p-4646-3/p-4646-3.yaml\n",
      "Dataset added successfully from /cuborizonte/data/aerial_1999_processed/p-4646-4/p-4646-4.yaml\n",
      "Dataset added successfully from /cuborizonte/data/aerial_1999_processed/p-4647-1/p-4647-1.yaml\n",
      "Dataset added successfully from /cuborizonte/data/aerial_1999_processed/p-4647-3/p-4647-3.yaml\n",
      "Dataset added successfully from /cuborizonte/data/aerial_1999_processed/p-4647-4/p-4647-4.yaml\n",
      "Dataset added successfully from /cuborizonte/data/aerial_1999_processed/p-4648-1/p-4648-1.yaml\n",
      "Dataset added successfully from /cuborizonte/data/aerial_1999_processed/p-4648-3/p-4648-3.yaml\n",
      "Dataset added successfully from /cuborizonte/data/aerial_1999_processed/p-4648-4/p-4648-4.yaml\n",
      "Dataset added successfully from /cuborizonte/data/aerial_1999_processed/p-4649-1/p-4649-1.yaml\n",
      "Dataset added successfully from /cuborizonte/data/aerial_1999_processed/p-4649-2/p-4649-2.yaml\n",
      "Dataset added successfully from /cuborizonte/data/aerial_1999_processed/p-4649-4/p-4649-4.yaml\n",
      "Dataset added successfully from /cuborizonte/data/aerial_1999_processed/p-4650-1/p-4650-1.yaml\n",
      "Dataset added successfully from /cuborizonte/data/aerial_1999_processed/p-4650-3/p-4650-3.yaml\n",
      "Dataset added successfully from /cuborizonte/data/aerial_1999_processed/p-4650-4/p-4650-4.yaml\n",
      "Dataset added successfully from /cuborizonte/data/aerial_1999_processed/p-4651-1/p-4651-1.yaml\n",
      "Dataset added successfully from /cuborizonte/data/aerial_1999_processed/p-4651-3/p-4651-3.yaml\n",
      "Dataset added successfully from /cuborizonte/data/aerial_1999_processed/p-4651-4/p-4651-4.yaml\n",
      "Dataset added successfully from /cuborizonte/data/aerial_1999_processed/p-4652-1/p-4652-1.yaml\n",
      "Dataset added successfully from /cuborizonte/data/aerial_1999_processed/p-4652-3/p-4652-3.yaml\n",
      "Dataset added successfully from /cuborizonte/data/aerial_1999_processed/p-4652-4/p-4652-4.yaml\n",
      "Dataset added successfully from /cuborizonte/data/aerial_1999_processed/p-4653-1/p-4653-1.yaml\n",
      "Dataset added successfully from /cuborizonte/data/aerial_1999_processed/p-4653-2/p-4653-2.yaml\n",
      "Dataset added successfully from /cuborizonte/data/aerial_1999_processed/p-4653-4/p-4653-4.yaml\n",
      "Dataset added successfully from /cuborizonte/data/aerial_1999_processed/p-4654-1/p-4654-1.yaml\n",
      "Dataset added successfully from /cuborizonte/data/aerial_1999_processed/p-4654-2/p-4654-2.yaml\n",
      "Dataset added successfully from /cuborizonte/data/aerial_1999_processed/p-4654-4/p-4654-4.yaml\n",
      "Dataset added successfully from /cuborizonte/data/aerial_1999_processed/p-4655-1/p-4655-1.yaml\n",
      "Dataset added successfully from /cuborizonte/data/aerial_1999_processed/p-4655-2/p-4655-2.yaml\n",
      "Dataset added successfully from /cuborizonte/data/aerial_1999_processed/p-4655-4/p-4655-4.yaml\n",
      "Dataset added successfully from /cuborizonte/data/aerial_1999_processed/p-4656-1/p-4656-1.yaml\n",
      "Dataset added successfully from /cuborizonte/data/aerial_1999_processed/p-4656-2/p-4656-2.yaml\n",
      "Dataset added successfully from /cuborizonte/data/aerial_1999_processed/p-4656-3/p-4656-3.yaml\n",
      "Dataset added successfully from /cuborizonte/data/aerial_1999_processed/p-4657-1/p-4657-1.yaml\n",
      "Dataset added successfully from /cuborizonte/data/aerial_1999_processed/p-4657-2/p-4657-2.yaml\n",
      "Dataset added successfully from /cuborizonte/data/aerial_1999_processed/p-4657-3/p-4657-3.yaml\n",
      "Dataset added successfully from /cuborizonte/data/aerial_1999_processed/p-4658-1/p-4658-1.yaml\n",
      "Dataset added successfully from /cuborizonte/data/aerial_1999_processed/p-4658-2/p-4658-2.yaml\n",
      "Dataset added successfully from /cuborizonte/data/aerial_1999_processed/p-4658-3/p-4658-3.yaml\n",
      "Dataset added successfully from /cuborizonte/data/aerial_1999_processed/p-4659-1/p-4659-1.yaml\n",
      "Dataset added successfully from /cuborizonte/data/aerial_1999_processed/p-4659-3/p-4659-3.yaml\n",
      "Dataset added successfully from /cuborizonte/data/aerial_1999_processed/p-4659-4/p-4659-4.yaml\n",
      "Dataset added successfully from /cuborizonte/data/aerial_1999_processed/p-4660-1/p-4660-1.yaml\n",
      "Dataset added successfully from /cuborizonte/data/aerial_1999_processed/p-4660-2/p-4660-2.yaml\n",
      "Dataset added successfully from /cuborizonte/data/aerial_1999_processed/p-4660-3/p-4660-3.yaml\n",
      "Dataset added successfully from /cuborizonte/data/aerial_1999_processed/p-4661-1/p-4661-1.yaml\n",
      "Dataset added successfully from /cuborizonte/data/aerial_1999_processed/p-4661-2/p-4661-2.yaml\n",
      "Dataset added successfully from /cuborizonte/data/aerial_1999_processed/p-4661-3/p-4661-3.yaml\n",
      "Dataset added successfully from /cuborizonte/data/aerial_1999_processed/p-4735-1/p-4735-1.yaml\n",
      "Dataset added successfully from /cuborizonte/data/aerial_1999_processed/p-4735-2/p-4735-2.yaml\n",
      "Dataset added successfully from /cuborizonte/data/aerial_1999_processed/p-4735-4/p-4735-4.yaml\n",
      "Dataset added successfully from /cuborizonte/data/aerial_1999_processed/p-4736-1/p-4736-1.yaml\n",
      "Dataset added successfully from /cuborizonte/data/aerial_1999_processed/p-4736-2/p-4736-2.yaml\n",
      "Dataset added successfully from /cuborizonte/data/aerial_1999_processed/p-4736-4/p-4736-4.yaml\n",
      "Dataset added successfully from /cuborizonte/data/aerial_1999_processed/p-4737-1/p-4737-1.yaml\n",
      "Dataset added successfully from /cuborizonte/data/aerial_1999_processed/p-4737-2/p-4737-2.yaml\n",
      "Dataset added successfully from /cuborizonte/data/aerial_1999_processed/p-4737-3/p-4737-3.yaml\n",
      "Dataset added successfully from /cuborizonte/data/aerial_1999_processed/p-4738-1/p-4738-1.yaml\n",
      "Dataset added successfully from /cuborizonte/data/aerial_1999_processed/p-4738-2/p-4738-2.yaml\n",
      "Dataset added successfully from /cuborizonte/data/aerial_1999_processed/p-4738-3/p-4738-3.yaml\n",
      "Dataset added successfully from /cuborizonte/data/aerial_1999_processed/p-4739-1/p-4739-1.yaml\n",
      "Dataset added successfully from /cuborizonte/data/aerial_1999_processed/p-4739-2/p-4739-2.yaml\n",
      "Dataset added successfully from /cuborizonte/data/aerial_1999_processed/p-4739-3/p-4739-3.yaml\n",
      "Dataset added successfully from /cuborizonte/data/aerial_1999_processed/p-4740-1/p-4740-1.yaml\n",
      "Dataset added successfully from /cuborizonte/data/aerial_1999_processed/p-4740-2/p-4740-2.yaml\n",
      "Dataset added successfully from /cuborizonte/data/aerial_1999_processed/p-4740-4/p-4740-4.yaml\n",
      "Dataset added successfully from /cuborizonte/data/aerial_1999_processed/p-4741-1/p-4741-1.yaml\n",
      "Dataset added successfully from /cuborizonte/data/aerial_1999_processed/p-4741-2/p-4741-2.yaml\n",
      "Dataset added successfully from /cuborizonte/data/aerial_1999_processed/p-4741-3/p-4741-3.yaml\n",
      "Dataset added successfully from /cuborizonte/data/aerial_1999_processed/p-4742-1/p-4742-1.yaml\n"
     ]
    }
   ],
   "source": [
    "root_path = os.path.abspath(os.path.abspath('/cuborizonte/data/aerial_1999_processed'))\n",
    "yaml_paths = get_yaml_files(root_path)\n",
    "add_datasets(yaml_paths)"
   ]
  }
 ],
 "metadata": {
  "kernelspec": {
   "display_name": "Python 3 (ipykernel)",
   "language": "python",
   "name": "python3"
  },
  "language_info": {
   "codemirror_mode": {
    "name": "ipython",
    "version": 3
   },
   "file_extension": ".py",
   "mimetype": "text/x-python",
   "name": "python",
   "nbconvert_exporter": "python",
   "pygments_lexer": "ipython3",
   "version": "3.10.12"
  }
 },
 "nbformat": 4,
 "nbformat_minor": 5
}
